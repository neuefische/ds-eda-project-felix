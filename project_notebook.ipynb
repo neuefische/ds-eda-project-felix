{
 "cells": [
  {
   "cell_type": "markdown",
   "metadata": {},
   "source": [
    "# EDA Project Felix Kolodziej 14.06.2024 - 19.06.2024\n",
    "Client:\n",
    "* Nicole Johnson | Buyer | Lively, central neighborhood, middle price range, right timing (within a year)"
   ]
  },
  {
   "cell_type": "markdown",
   "metadata": {},
   "source": [
    "### Importing relevant library's "
   ]
  },
  {
   "cell_type": "code",
   "execution_count": 175,
   "metadata": {},
   "outputs": [],
   "source": [
    "import warnings\n",
    "\n",
    "warnings.filterwarnings(\"ignore\")\n",
    "\n",
    "import pandas as pd\n",
    "import numpy as np\n",
    "import matplotlib.pyplot as plt\n",
    "import seaborn as sns\n",
    "import missingno as msno\n",
    "import altair as alt\n",
    "\n",
    "# This line imports the PercentFormatter class from the matplotlib.ticker module. PercentFormatter is used to format axis tick labels as percentages.\n",
    "from matplotlib.ticker import PercentFormatter\n",
    "\n",
    "# This line updates the default configuration parameters (rcParams) for Matplotlib plots. \n",
    "# Specifically, it sets:\n",
    "# * figure.figsize to (8, 5): This sets the default size of the figures to 8 inches in width and 5 inches in height.\n",
    "# * axes.facecolor to white: This sets the background color of the plot axes to white.\n",
    "# * axes.edgecolor to black: This sets the color of the edges of the plot axes to black.\n",
    "plt.rcParams.update({ \"figure.figsize\" : (8, 5),\"axes.facecolor\" : \"white\", \"axes.edgecolor\":  \"black\"})\n",
    "\n",
    "# This line sets the default background color of the entire figure to white (using \"w\" as the color code).\n",
    "plt.rcParams[\"figure.facecolor\"]= \"w\"\n",
    "\n",
    "# This line registers the converters provided by pandas.\n",
    "# plotting with Matplotlib, ensuring that Pandas objects, such as DatetimeIndex, are properly converted for plotting.\n",
    "pd.plotting.register_matplotlib_converters()\n",
    "\n",
    "# This line sets the display format for floating-point numbers in Pandas DataFrames and Series to display\n",
    "# three decimal places. The lambda x: '%.3f' % x function formats the floating-point numbers accordingly.\n",
    "pd.set_option('display.float_format', lambda x: '%.3f' % x)\n",
    "\n",
    "## Overall, this code configures Matplotlib and Pandas to ensure consistent plotting aesthetics and data formatting for floating-point numbers."
   ]
  },
  {
   "cell_type": "markdown",
   "metadata": {},
   "source": [
    "### importing raw data"
   ]
  },
  {
   "cell_type": "code",
   "execution_count": 176,
   "metadata": {},
   "outputs": [],
   "source": [
    "df_details = pd.read_csv('data\\king_county_house_details_202406141310.csv')\n",
    "df_sales = pd.read_csv('data\\king_county_house_sales_202406141310.csv')"
   ]
  },
  {
   "cell_type": "markdown",
   "metadata": {},
   "source": [
    "## Overview of the Dataframes"
   ]
  },
  {
   "cell_type": "code",
   "execution_count": 177,
   "metadata": {},
   "outputs": [
    {
     "name": "stdout",
     "output_type": "stream",
     "text": [
      "Details:  (21420, 19)\n",
      "Sales:  (21597, 4)\n"
     ]
    },
    {
     "data": {
      "text/html": [
       "<div>\n",
       "<style scoped>\n",
       "    .dataframe tbody tr th:only-of-type {\n",
       "        vertical-align: middle;\n",
       "    }\n",
       "\n",
       "    .dataframe tbody tr th {\n",
       "        vertical-align: top;\n",
       "    }\n",
       "\n",
       "    .dataframe thead th {\n",
       "        text-align: right;\n",
       "    }\n",
       "</style>\n",
       "<table border=\"1\" class=\"dataframe\">\n",
       "  <thead>\n",
       "    <tr style=\"text-align: right;\">\n",
       "      <th></th>\n",
       "      <th>id</th>\n",
       "      <th>bedrooms</th>\n",
       "      <th>bathrooms</th>\n",
       "      <th>sqft_living</th>\n",
       "      <th>sqft_lot</th>\n",
       "      <th>floors</th>\n",
       "      <th>waterfront</th>\n",
       "      <th>view</th>\n",
       "      <th>condition</th>\n",
       "      <th>grade</th>\n",
       "      <th>sqft_above</th>\n",
       "      <th>sqft_basement</th>\n",
       "      <th>yr_built</th>\n",
       "      <th>yr_renovated</th>\n",
       "      <th>zipcode</th>\n",
       "      <th>lat</th>\n",
       "      <th>long</th>\n",
       "      <th>sqft_living15</th>\n",
       "      <th>sqft_lot15</th>\n",
       "    </tr>\n",
       "  </thead>\n",
       "  <tbody>\n",
       "    <tr>\n",
       "      <th>0</th>\n",
       "      <td>1000102</td>\n",
       "      <td>6.000</td>\n",
       "      <td>3.000</td>\n",
       "      <td>2400.000</td>\n",
       "      <td>9373.000</td>\n",
       "      <td>2.000</td>\n",
       "      <td>NaN</td>\n",
       "      <td>0.000</td>\n",
       "      <td>3</td>\n",
       "      <td>7</td>\n",
       "      <td>2400.000</td>\n",
       "      <td>0.000</td>\n",
       "      <td>1991</td>\n",
       "      <td>0.000</td>\n",
       "      <td>98002</td>\n",
       "      <td>47.326</td>\n",
       "      <td>-122.214</td>\n",
       "      <td>2060.000</td>\n",
       "      <td>7316.000</td>\n",
       "    </tr>\n",
       "    <tr>\n",
       "      <th>1</th>\n",
       "      <td>100100050</td>\n",
       "      <td>3.000</td>\n",
       "      <td>1.000</td>\n",
       "      <td>1320.000</td>\n",
       "      <td>11090.000</td>\n",
       "      <td>1.000</td>\n",
       "      <td>0.000</td>\n",
       "      <td>0.000</td>\n",
       "      <td>3</td>\n",
       "      <td>7</td>\n",
       "      <td>1320.000</td>\n",
       "      <td>0.000</td>\n",
       "      <td>1955</td>\n",
       "      <td>0.000</td>\n",
       "      <td>98155</td>\n",
       "      <td>47.775</td>\n",
       "      <td>-122.304</td>\n",
       "      <td>1320.000</td>\n",
       "      <td>8319.000</td>\n",
       "    </tr>\n",
       "    <tr>\n",
       "      <th>2</th>\n",
       "      <td>1001200035</td>\n",
       "      <td>3.000</td>\n",
       "      <td>1.000</td>\n",
       "      <td>1350.000</td>\n",
       "      <td>7973.000</td>\n",
       "      <td>1.500</td>\n",
       "      <td>NaN</td>\n",
       "      <td>0.000</td>\n",
       "      <td>3</td>\n",
       "      <td>7</td>\n",
       "      <td>1350.000</td>\n",
       "      <td>0.000</td>\n",
       "      <td>1954</td>\n",
       "      <td>0.000</td>\n",
       "      <td>98188</td>\n",
       "      <td>47.432</td>\n",
       "      <td>-122.292</td>\n",
       "      <td>1310.000</td>\n",
       "      <td>7491.000</td>\n",
       "    </tr>\n",
       "    <tr>\n",
       "      <th>3</th>\n",
       "      <td>1001200050</td>\n",
       "      <td>4.000</td>\n",
       "      <td>1.500</td>\n",
       "      <td>1260.000</td>\n",
       "      <td>7248.000</td>\n",
       "      <td>1.500</td>\n",
       "      <td>NaN</td>\n",
       "      <td>0.000</td>\n",
       "      <td>5</td>\n",
       "      <td>7</td>\n",
       "      <td>1260.000</td>\n",
       "      <td>0.000</td>\n",
       "      <td>1955</td>\n",
       "      <td>NaN</td>\n",
       "      <td>98188</td>\n",
       "      <td>47.433</td>\n",
       "      <td>-122.292</td>\n",
       "      <td>1300.000</td>\n",
       "      <td>7732.000</td>\n",
       "    </tr>\n",
       "    <tr>\n",
       "      <th>4</th>\n",
       "      <td>1003000175</td>\n",
       "      <td>3.000</td>\n",
       "      <td>1.000</td>\n",
       "      <td>980.000</td>\n",
       "      <td>7606.000</td>\n",
       "      <td>1.000</td>\n",
       "      <td>0.000</td>\n",
       "      <td>0.000</td>\n",
       "      <td>3</td>\n",
       "      <td>7</td>\n",
       "      <td>980.000</td>\n",
       "      <td>0.000</td>\n",
       "      <td>1954</td>\n",
       "      <td>0.000</td>\n",
       "      <td>98188</td>\n",
       "      <td>47.436</td>\n",
       "      <td>-122.290</td>\n",
       "      <td>980.000</td>\n",
       "      <td>8125.000</td>\n",
       "    </tr>\n",
       "    <tr>\n",
       "      <th>5</th>\n",
       "      <td>100300280</td>\n",
       "      <td>3.000</td>\n",
       "      <td>2.250</td>\n",
       "      <td>1430.000</td>\n",
       "      <td>4777.000</td>\n",
       "      <td>2.000</td>\n",
       "      <td>0.000</td>\n",
       "      <td>0.000</td>\n",
       "      <td>3</td>\n",
       "      <td>7</td>\n",
       "      <td>1430.000</td>\n",
       "      <td>0.000</td>\n",
       "      <td>2010</td>\n",
       "      <td>0.000</td>\n",
       "      <td>98059</td>\n",
       "      <td>47.487</td>\n",
       "      <td>-122.152</td>\n",
       "      <td>1639.000</td>\n",
       "      <td>3854.000</td>\n",
       "    </tr>\n",
       "    <tr>\n",
       "      <th>6</th>\n",
       "      <td>100300500</td>\n",
       "      <td>3.000</td>\n",
       "      <td>2.500</td>\n",
       "      <td>1520.000</td>\n",
       "      <td>3041.000</td>\n",
       "      <td>2.000</td>\n",
       "      <td>0.000</td>\n",
       "      <td>0.000</td>\n",
       "      <td>3</td>\n",
       "      <td>7</td>\n",
       "      <td>1520.000</td>\n",
       "      <td>0.000</td>\n",
       "      <td>2009</td>\n",
       "      <td>NaN</td>\n",
       "      <td>98059</td>\n",
       "      <td>47.487</td>\n",
       "      <td>-122.152</td>\n",
       "      <td>1820.000</td>\n",
       "      <td>3229.000</td>\n",
       "    </tr>\n",
       "    <tr>\n",
       "      <th>7</th>\n",
       "      <td>100300530</td>\n",
       "      <td>3.000</td>\n",
       "      <td>2.500</td>\n",
       "      <td>1520.000</td>\n",
       "      <td>3003.000</td>\n",
       "      <td>2.000</td>\n",
       "      <td>0.000</td>\n",
       "      <td>0.000</td>\n",
       "      <td>3</td>\n",
       "      <td>7</td>\n",
       "      <td>1520.000</td>\n",
       "      <td>0.000</td>\n",
       "      <td>2009</td>\n",
       "      <td>0.000</td>\n",
       "      <td>98059</td>\n",
       "      <td>47.488</td>\n",
       "      <td>-122.153</td>\n",
       "      <td>1820.000</td>\n",
       "      <td>3030.000</td>\n",
       "    </tr>\n",
       "    <tr>\n",
       "      <th>8</th>\n",
       "      <td>1003400155</td>\n",
       "      <td>3.000</td>\n",
       "      <td>1.000</td>\n",
       "      <td>1100.000</td>\n",
       "      <td>7657.000</td>\n",
       "      <td>1.000</td>\n",
       "      <td>0.000</td>\n",
       "      <td>0.000</td>\n",
       "      <td>3</td>\n",
       "      <td>7</td>\n",
       "      <td>1100.000</td>\n",
       "      <td>0.000</td>\n",
       "      <td>1955</td>\n",
       "      <td>0.000</td>\n",
       "      <td>98188</td>\n",
       "      <td>47.437</td>\n",
       "      <td>-122.285</td>\n",
       "      <td>1300.000</td>\n",
       "      <td>8000.000</td>\n",
       "    </tr>\n",
       "    <tr>\n",
       "      <th>9</th>\n",
       "      <td>1003400245</td>\n",
       "      <td>3.000</td>\n",
       "      <td>1.000</td>\n",
       "      <td>1130.000</td>\n",
       "      <td>9907.000</td>\n",
       "      <td>1.000</td>\n",
       "      <td>0.000</td>\n",
       "      <td>0.000</td>\n",
       "      <td>3</td>\n",
       "      <td>7</td>\n",
       "      <td>1130.000</td>\n",
       "      <td>0.000</td>\n",
       "      <td>1954</td>\n",
       "      <td>0.000</td>\n",
       "      <td>98188</td>\n",
       "      <td>47.436</td>\n",
       "      <td>-122.286</td>\n",
       "      <td>1320.000</td>\n",
       "      <td>9907.000</td>\n",
       "    </tr>\n",
       "    <tr>\n",
       "      <th>10</th>\n",
       "      <td>1003400250</td>\n",
       "      <td>3.000</td>\n",
       "      <td>1.000</td>\n",
       "      <td>1130.000</td>\n",
       "      <td>10650.000</td>\n",
       "      <td>1.000</td>\n",
       "      <td>0.000</td>\n",
       "      <td>0.000</td>\n",
       "      <td>3</td>\n",
       "      <td>7</td>\n",
       "      <td>1130.000</td>\n",
       "      <td>0.000</td>\n",
       "      <td>1954</td>\n",
       "      <td>0.000</td>\n",
       "      <td>98188</td>\n",
       "      <td>47.436</td>\n",
       "      <td>-122.286</td>\n",
       "      <td>1320.000</td>\n",
       "      <td>10650.000</td>\n",
       "    </tr>\n",
       "    <tr>\n",
       "      <th>11</th>\n",
       "      <td>1003600056</td>\n",
       "      <td>4.000</td>\n",
       "      <td>2.000</td>\n",
       "      <td>1370.000</td>\n",
       "      <td>8837.000</td>\n",
       "      <td>1.500</td>\n",
       "      <td>0.000</td>\n",
       "      <td>0.000</td>\n",
       "      <td>3</td>\n",
       "      <td>7</td>\n",
       "      <td>1370.000</td>\n",
       "      <td>0.000</td>\n",
       "      <td>1955</td>\n",
       "      <td>NaN</td>\n",
       "      <td>98188</td>\n",
       "      <td>47.439</td>\n",
       "      <td>-122.285</td>\n",
       "      <td>1360.000</td>\n",
       "      <td>9000.000</td>\n",
       "    </tr>\n",
       "    <tr>\n",
       "      <th>12</th>\n",
       "      <td>1003600080</td>\n",
       "      <td>3.000</td>\n",
       "      <td>1.000</td>\n",
       "      <td>1010.000</td>\n",
       "      <td>9678.000</td>\n",
       "      <td>1.000</td>\n",
       "      <td>0.000</td>\n",
       "      <td>0.000</td>\n",
       "      <td>5</td>\n",
       "      <td>7</td>\n",
       "      <td>1010.000</td>\n",
       "      <td>0.000</td>\n",
       "      <td>1955</td>\n",
       "      <td>0.000</td>\n",
       "      <td>98188</td>\n",
       "      <td>47.440</td>\n",
       "      <td>-122.285</td>\n",
       "      <td>1010.000</td>\n",
       "      <td>9375.000</td>\n",
       "    </tr>\n",
       "    <tr>\n",
       "      <th>13</th>\n",
       "      <td>1005000036</td>\n",
       "      <td>3.000</td>\n",
       "      <td>1.750</td>\n",
       "      <td>1840.000</td>\n",
       "      <td>8601.000</td>\n",
       "      <td>1.000</td>\n",
       "      <td>0.000</td>\n",
       "      <td>0.000</td>\n",
       "      <td>3</td>\n",
       "      <td>7</td>\n",
       "      <td>920.000</td>\n",
       "      <td>920.000</td>\n",
       "      <td>1905</td>\n",
       "      <td>20140.000</td>\n",
       "      <td>98118</td>\n",
       "      <td>47.536</td>\n",
       "      <td>-122.276</td>\n",
       "      <td>1390.000</td>\n",
       "      <td>7452.000</td>\n",
       "    </tr>\n",
       "    <tr>\n",
       "      <th>14</th>\n",
       "      <td>1005000062</td>\n",
       "      <td>2.000</td>\n",
       "      <td>1.000</td>\n",
       "      <td>1040.000</td>\n",
       "      <td>4600.000</td>\n",
       "      <td>1.000</td>\n",
       "      <td>0.000</td>\n",
       "      <td>0.000</td>\n",
       "      <td>4</td>\n",
       "      <td>6</td>\n",
       "      <td>1040.000</td>\n",
       "      <td>0.000</td>\n",
       "      <td>1950</td>\n",
       "      <td>0.000</td>\n",
       "      <td>98118</td>\n",
       "      <td>47.539</td>\n",
       "      <td>-122.277</td>\n",
       "      <td>1390.000</td>\n",
       "      <td>5897.000</td>\n",
       "    </tr>\n",
       "    <tr>\n",
       "      <th>15</th>\n",
       "      <td>100500020</td>\n",
       "      <td>3.000</td>\n",
       "      <td>2.500</td>\n",
       "      <td>1610.000</td>\n",
       "      <td>6600.000</td>\n",
       "      <td>2.000</td>\n",
       "      <td>0.000</td>\n",
       "      <td>0.000</td>\n",
       "      <td>3</td>\n",
       "      <td>7</td>\n",
       "      <td>1610.000</td>\n",
       "      <td>0.000</td>\n",
       "      <td>1994</td>\n",
       "      <td>0.000</td>\n",
       "      <td>98003</td>\n",
       "      <td>47.283</td>\n",
       "      <td>-122.302</td>\n",
       "      <td>1660.000</td>\n",
       "      <td>7689.000</td>\n",
       "    </tr>\n",
       "    <tr>\n",
       "      <th>16</th>\n",
       "      <td>1005000220</td>\n",
       "      <td>2.000</td>\n",
       "      <td>1.000</td>\n",
       "      <td>2020.000</td>\n",
       "      <td>7540.000</td>\n",
       "      <td>1.000</td>\n",
       "      <td>0.000</td>\n",
       "      <td>0.000</td>\n",
       "      <td>3</td>\n",
       "      <td>7</td>\n",
       "      <td>1010.000</td>\n",
       "      <td>1010.000</td>\n",
       "      <td>1921</td>\n",
       "      <td>0.000</td>\n",
       "      <td>98118</td>\n",
       "      <td>47.536</td>\n",
       "      <td>-122.280</td>\n",
       "      <td>1270.000</td>\n",
       "      <td>4652.000</td>\n",
       "    </tr>\n",
       "    <tr>\n",
       "      <th>17</th>\n",
       "      <td>1005000240</td>\n",
       "      <td>2.000</td>\n",
       "      <td>1.000</td>\n",
       "      <td>1200.000</td>\n",
       "      <td>6014.000</td>\n",
       "      <td>1.000</td>\n",
       "      <td>0.000</td>\n",
       "      <td>0.000</td>\n",
       "      <td>4</td>\n",
       "      <td>6</td>\n",
       "      <td>600.000</td>\n",
       "      <td>600.000</td>\n",
       "      <td>1949</td>\n",
       "      <td>0.000</td>\n",
       "      <td>98118</td>\n",
       "      <td>47.536</td>\n",
       "      <td>-122.280</td>\n",
       "      <td>1270.000</td>\n",
       "      <td>4652.000</td>\n",
       "    </tr>\n",
       "    <tr>\n",
       "      <th>18</th>\n",
       "      <td>1005000250</td>\n",
       "      <td>2.000</td>\n",
       "      <td>1.000</td>\n",
       "      <td>840.000</td>\n",
       "      <td>5551.000</td>\n",
       "      <td>1.000</td>\n",
       "      <td>0.000</td>\n",
       "      <td>0.000</td>\n",
       "      <td>3</td>\n",
       "      <td>6</td>\n",
       "      <td>840.000</td>\n",
       "      <td>0.000</td>\n",
       "      <td>1952</td>\n",
       "      <td>0.000</td>\n",
       "      <td>98118</td>\n",
       "      <td>47.535</td>\n",
       "      <td>-122.280</td>\n",
       "      <td>1270.000</td>\n",
       "      <td>4652.000</td>\n",
       "    </tr>\n",
       "    <tr>\n",
       "      <th>19</th>\n",
       "      <td>100600320</td>\n",
       "      <td>3.000</td>\n",
       "      <td>1.000</td>\n",
       "      <td>1430.000</td>\n",
       "      <td>7000.000</td>\n",
       "      <td>1.000</td>\n",
       "      <td>0.000</td>\n",
       "      <td>0.000</td>\n",
       "      <td>3</td>\n",
       "      <td>6</td>\n",
       "      <td>1430.000</td>\n",
       "      <td>0.000</td>\n",
       "      <td>1968</td>\n",
       "      <td>NaN</td>\n",
       "      <td>98023</td>\n",
       "      <td>47.302</td>\n",
       "      <td>-122.369</td>\n",
       "      <td>1050.000</td>\n",
       "      <td>7700.000</td>\n",
       "    </tr>\n",
       "    <tr>\n",
       "      <th>20</th>\n",
       "      <td>100600550</td>\n",
       "      <td>3.000</td>\n",
       "      <td>1.500</td>\n",
       "      <td>1300.000</td>\n",
       "      <td>7370.000</td>\n",
       "      <td>1.000</td>\n",
       "      <td>0.000</td>\n",
       "      <td>0.000</td>\n",
       "      <td>4</td>\n",
       "      <td>7</td>\n",
       "      <td>900.000</td>\n",
       "      <td>400.000</td>\n",
       "      <td>1976</td>\n",
       "      <td>0.000</td>\n",
       "      <td>98023</td>\n",
       "      <td>47.303</td>\n",
       "      <td>-122.370</td>\n",
       "      <td>1430.000</td>\n",
       "      <td>7500.000</td>\n",
       "    </tr>\n",
       "    <tr>\n",
       "      <th>21</th>\n",
       "      <td>100600860</td>\n",
       "      <td>3.000</td>\n",
       "      <td>1.750</td>\n",
       "      <td>1050.000</td>\n",
       "      <td>7854.000</td>\n",
       "      <td>1.000</td>\n",
       "      <td>0.000</td>\n",
       "      <td>0.000</td>\n",
       "      <td>4</td>\n",
       "      <td>7</td>\n",
       "      <td>1050.000</td>\n",
       "      <td>0.000</td>\n",
       "      <td>1975</td>\n",
       "      <td>0.000</td>\n",
       "      <td>98023</td>\n",
       "      <td>47.301</td>\n",
       "      <td>-122.369</td>\n",
       "      <td>1360.000</td>\n",
       "      <td>7668.000</td>\n",
       "    </tr>\n",
       "    <tr>\n",
       "      <th>22</th>\n",
       "      <td>1015000050</td>\n",
       "      <td>4.000</td>\n",
       "      <td>2.500</td>\n",
       "      <td>2220.000</td>\n",
       "      <td>5900.000</td>\n",
       "      <td>2.000</td>\n",
       "      <td>0.000</td>\n",
       "      <td>0.000</td>\n",
       "      <td>3</td>\n",
       "      <td>8</td>\n",
       "      <td>2220.000</td>\n",
       "      <td>0.000</td>\n",
       "      <td>2014</td>\n",
       "      <td>0.000</td>\n",
       "      <td>98117</td>\n",
       "      <td>47.696</td>\n",
       "      <td>-122.360</td>\n",
       "      <td>1620.000</td>\n",
       "      <td>5900.000</td>\n",
       "    </tr>\n",
       "    <tr>\n",
       "      <th>23</th>\n",
       "      <td>1015500300</td>\n",
       "      <td>3.000</td>\n",
       "      <td>2.500</td>\n",
       "      <td>1870.000</td>\n",
       "      <td>7344.000</td>\n",
       "      <td>1.000</td>\n",
       "      <td>0.000</td>\n",
       "      <td>0.000</td>\n",
       "      <td>3</td>\n",
       "      <td>8</td>\n",
       "      <td>1470.000</td>\n",
       "      <td>400.000</td>\n",
       "      <td>1980</td>\n",
       "      <td>0.000</td>\n",
       "      <td>98034</td>\n",
       "      <td>47.727</td>\n",
       "      <td>-122.206</td>\n",
       "      <td>1930.000</td>\n",
       "      <td>7344.000</td>\n",
       "    </tr>\n",
       "    <tr>\n",
       "      <th>24</th>\n",
       "      <td>1016000080</td>\n",
       "      <td>3.000</td>\n",
       "      <td>1.000</td>\n",
       "      <td>1620.000</td>\n",
       "      <td>10610.000</td>\n",
       "      <td>1.000</td>\n",
       "      <td>0.000</td>\n",
       "      <td>0.000</td>\n",
       "      <td>4</td>\n",
       "      <td>6</td>\n",
       "      <td>1620.000</td>\n",
       "      <td>0.000</td>\n",
       "      <td>1958</td>\n",
       "      <td>0.000</td>\n",
       "      <td>98059</td>\n",
       "      <td>47.474</td>\n",
       "      <td>-122.125</td>\n",
       "      <td>1680.000</td>\n",
       "      <td>10795.000</td>\n",
       "    </tr>\n",
       "  </tbody>\n",
       "</table>\n",
       "</div>"
      ],
      "text/plain": [
       "            id  bedrooms  bathrooms  sqft_living  sqft_lot  floors  \\\n",
       "0      1000102     6.000      3.000     2400.000  9373.000   2.000   \n",
       "1    100100050     3.000      1.000     1320.000 11090.000   1.000   \n",
       "2   1001200035     3.000      1.000     1350.000  7973.000   1.500   \n",
       "3   1001200050     4.000      1.500     1260.000  7248.000   1.500   \n",
       "4   1003000175     3.000      1.000      980.000  7606.000   1.000   \n",
       "5    100300280     3.000      2.250     1430.000  4777.000   2.000   \n",
       "6    100300500     3.000      2.500     1520.000  3041.000   2.000   \n",
       "7    100300530     3.000      2.500     1520.000  3003.000   2.000   \n",
       "8   1003400155     3.000      1.000     1100.000  7657.000   1.000   \n",
       "9   1003400245     3.000      1.000     1130.000  9907.000   1.000   \n",
       "10  1003400250     3.000      1.000     1130.000 10650.000   1.000   \n",
       "11  1003600056     4.000      2.000     1370.000  8837.000   1.500   \n",
       "12  1003600080     3.000      1.000     1010.000  9678.000   1.000   \n",
       "13  1005000036     3.000      1.750     1840.000  8601.000   1.000   \n",
       "14  1005000062     2.000      1.000     1040.000  4600.000   1.000   \n",
       "15   100500020     3.000      2.500     1610.000  6600.000   2.000   \n",
       "16  1005000220     2.000      1.000     2020.000  7540.000   1.000   \n",
       "17  1005000240     2.000      1.000     1200.000  6014.000   1.000   \n",
       "18  1005000250     2.000      1.000      840.000  5551.000   1.000   \n",
       "19   100600320     3.000      1.000     1430.000  7000.000   1.000   \n",
       "20   100600550     3.000      1.500     1300.000  7370.000   1.000   \n",
       "21   100600860     3.000      1.750     1050.000  7854.000   1.000   \n",
       "22  1015000050     4.000      2.500     2220.000  5900.000   2.000   \n",
       "23  1015500300     3.000      2.500     1870.000  7344.000   1.000   \n",
       "24  1016000080     3.000      1.000     1620.000 10610.000   1.000   \n",
       "\n",
       "    waterfront  view  condition  grade  sqft_above  sqft_basement  yr_built  \\\n",
       "0          NaN 0.000          3      7    2400.000          0.000      1991   \n",
       "1        0.000 0.000          3      7    1320.000          0.000      1955   \n",
       "2          NaN 0.000          3      7    1350.000          0.000      1954   \n",
       "3          NaN 0.000          5      7    1260.000          0.000      1955   \n",
       "4        0.000 0.000          3      7     980.000          0.000      1954   \n",
       "5        0.000 0.000          3      7    1430.000          0.000      2010   \n",
       "6        0.000 0.000          3      7    1520.000          0.000      2009   \n",
       "7        0.000 0.000          3      7    1520.000          0.000      2009   \n",
       "8        0.000 0.000          3      7    1100.000          0.000      1955   \n",
       "9        0.000 0.000          3      7    1130.000          0.000      1954   \n",
       "10       0.000 0.000          3      7    1130.000          0.000      1954   \n",
       "11       0.000 0.000          3      7    1370.000          0.000      1955   \n",
       "12       0.000 0.000          5      7    1010.000          0.000      1955   \n",
       "13       0.000 0.000          3      7     920.000        920.000      1905   \n",
       "14       0.000 0.000          4      6    1040.000          0.000      1950   \n",
       "15       0.000 0.000          3      7    1610.000          0.000      1994   \n",
       "16       0.000 0.000          3      7    1010.000       1010.000      1921   \n",
       "17       0.000 0.000          4      6     600.000        600.000      1949   \n",
       "18       0.000 0.000          3      6     840.000          0.000      1952   \n",
       "19       0.000 0.000          3      6    1430.000          0.000      1968   \n",
       "20       0.000 0.000          4      7     900.000        400.000      1976   \n",
       "21       0.000 0.000          4      7    1050.000          0.000      1975   \n",
       "22       0.000 0.000          3      8    2220.000          0.000      2014   \n",
       "23       0.000 0.000          3      8    1470.000        400.000      1980   \n",
       "24       0.000 0.000          4      6    1620.000          0.000      1958   \n",
       "\n",
       "    yr_renovated  zipcode    lat     long  sqft_living15  sqft_lot15  \n",
       "0          0.000    98002 47.326 -122.214       2060.000    7316.000  \n",
       "1          0.000    98155 47.775 -122.304       1320.000    8319.000  \n",
       "2          0.000    98188 47.432 -122.292       1310.000    7491.000  \n",
       "3            NaN    98188 47.433 -122.292       1300.000    7732.000  \n",
       "4          0.000    98188 47.436 -122.290        980.000    8125.000  \n",
       "5          0.000    98059 47.487 -122.152       1639.000    3854.000  \n",
       "6            NaN    98059 47.487 -122.152       1820.000    3229.000  \n",
       "7          0.000    98059 47.488 -122.153       1820.000    3030.000  \n",
       "8          0.000    98188 47.437 -122.285       1300.000    8000.000  \n",
       "9          0.000    98188 47.436 -122.286       1320.000    9907.000  \n",
       "10         0.000    98188 47.436 -122.286       1320.000   10650.000  \n",
       "11           NaN    98188 47.439 -122.285       1360.000    9000.000  \n",
       "12         0.000    98188 47.440 -122.285       1010.000    9375.000  \n",
       "13     20140.000    98118 47.536 -122.276       1390.000    7452.000  \n",
       "14         0.000    98118 47.539 -122.277       1390.000    5897.000  \n",
       "15         0.000    98003 47.283 -122.302       1660.000    7689.000  \n",
       "16         0.000    98118 47.536 -122.280       1270.000    4652.000  \n",
       "17         0.000    98118 47.536 -122.280       1270.000    4652.000  \n",
       "18         0.000    98118 47.535 -122.280       1270.000    4652.000  \n",
       "19           NaN    98023 47.302 -122.369       1050.000    7700.000  \n",
       "20         0.000    98023 47.303 -122.370       1430.000    7500.000  \n",
       "21         0.000    98023 47.301 -122.369       1360.000    7668.000  \n",
       "22         0.000    98117 47.696 -122.360       1620.000    5900.000  \n",
       "23         0.000    98034 47.727 -122.206       1930.000    7344.000  \n",
       "24         0.000    98059 47.474 -122.125       1680.000   10795.000  "
      ]
     },
     "execution_count": 177,
     "metadata": {},
     "output_type": "execute_result"
    }
   ],
   "source": [
    "print(\"Details: \", df_details.shape)\n",
    "print(\"Sales: \", df_sales.shape)\n",
    "df_details.head(25)"
   ]
  },
  {
   "cell_type": "markdown",
   "metadata": {},
   "source": [
    "here i have the following to dos:\n",
    "* change id to index\n",
    "* change bedrooms/bathrooms to int\n",
    "* round floors to 2 dgts\n",
    "* investigate view\n",
    "* check yr_renovated. maybe change renovated to not needed, if house in good condition or was build only few yrs ago\n",
    "* take care of NaN\n",
    "* merge sales with details on house_id\n",
    "*see, what to do about the 177 missing houses"
   ]
  },
  {
   "cell_type": "code",
   "execution_count": 178,
   "metadata": {},
   "outputs": [
    {
     "data": {
      "text/html": [
       "<div>\n",
       "<style scoped>\n",
       "    .dataframe tbody tr th:only-of-type {\n",
       "        vertical-align: middle;\n",
       "    }\n",
       "\n",
       "    .dataframe tbody tr th {\n",
       "        vertical-align: top;\n",
       "    }\n",
       "\n",
       "    .dataframe thead th {\n",
       "        text-align: right;\n",
       "    }\n",
       "</style>\n",
       "<table border=\"1\" class=\"dataframe\">\n",
       "  <thead>\n",
       "    <tr style=\"text-align: right;\">\n",
       "      <th></th>\n",
       "      <th>date</th>\n",
       "      <th>price</th>\n",
       "      <th>house_id</th>\n",
       "      <th>id</th>\n",
       "    </tr>\n",
       "  </thead>\n",
       "  <tbody>\n",
       "    <tr>\n",
       "      <th>0</th>\n",
       "      <td>2014-10-13</td>\n",
       "      <td>221900.000</td>\n",
       "      <td>7129300520</td>\n",
       "      <td>1</td>\n",
       "    </tr>\n",
       "    <tr>\n",
       "      <th>1</th>\n",
       "      <td>2014-12-09</td>\n",
       "      <td>538000.000</td>\n",
       "      <td>6414100192</td>\n",
       "      <td>2</td>\n",
       "    </tr>\n",
       "    <tr>\n",
       "      <th>2</th>\n",
       "      <td>2015-02-25</td>\n",
       "      <td>180000.000</td>\n",
       "      <td>5631500400</td>\n",
       "      <td>3</td>\n",
       "    </tr>\n",
       "    <tr>\n",
       "      <th>3</th>\n",
       "      <td>2014-12-09</td>\n",
       "      <td>604000.000</td>\n",
       "      <td>2487200875</td>\n",
       "      <td>4</td>\n",
       "    </tr>\n",
       "    <tr>\n",
       "      <th>4</th>\n",
       "      <td>2015-02-18</td>\n",
       "      <td>510000.000</td>\n",
       "      <td>1954400510</td>\n",
       "      <td>5</td>\n",
       "    </tr>\n",
       "    <tr>\n",
       "      <th>5</th>\n",
       "      <td>2014-05-12</td>\n",
       "      <td>1230000.000</td>\n",
       "      <td>7237550310</td>\n",
       "      <td>6</td>\n",
       "    </tr>\n",
       "    <tr>\n",
       "      <th>6</th>\n",
       "      <td>2014-06-27</td>\n",
       "      <td>257500.000</td>\n",
       "      <td>1321400060</td>\n",
       "      <td>7</td>\n",
       "    </tr>\n",
       "    <tr>\n",
       "      <th>7</th>\n",
       "      <td>2015-01-15</td>\n",
       "      <td>291850.000</td>\n",
       "      <td>2008000270</td>\n",
       "      <td>8</td>\n",
       "    </tr>\n",
       "    <tr>\n",
       "      <th>8</th>\n",
       "      <td>2015-04-15</td>\n",
       "      <td>229500.000</td>\n",
       "      <td>2414600126</td>\n",
       "      <td>9</td>\n",
       "    </tr>\n",
       "    <tr>\n",
       "      <th>9</th>\n",
       "      <td>2015-03-12</td>\n",
       "      <td>323000.000</td>\n",
       "      <td>3793500160</td>\n",
       "      <td>10</td>\n",
       "    </tr>\n",
       "    <tr>\n",
       "      <th>10</th>\n",
       "      <td>2015-04-03</td>\n",
       "      <td>662500.000</td>\n",
       "      <td>1736800520</td>\n",
       "      <td>11</td>\n",
       "    </tr>\n",
       "    <tr>\n",
       "      <th>11</th>\n",
       "      <td>2014-05-27</td>\n",
       "      <td>468000.000</td>\n",
       "      <td>9212900260</td>\n",
       "      <td>12</td>\n",
       "    </tr>\n",
       "    <tr>\n",
       "      <th>12</th>\n",
       "      <td>2014-05-28</td>\n",
       "      <td>310000.000</td>\n",
       "      <td>114101516</td>\n",
       "      <td>13</td>\n",
       "    </tr>\n",
       "    <tr>\n",
       "      <th>13</th>\n",
       "      <td>2014-10-07</td>\n",
       "      <td>400000.000</td>\n",
       "      <td>6054650070</td>\n",
       "      <td>14</td>\n",
       "    </tr>\n",
       "    <tr>\n",
       "      <th>14</th>\n",
       "      <td>2015-03-12</td>\n",
       "      <td>530000.000</td>\n",
       "      <td>1175000570</td>\n",
       "      <td>15</td>\n",
       "    </tr>\n",
       "    <tr>\n",
       "      <th>15</th>\n",
       "      <td>2015-01-24</td>\n",
       "      <td>650000.000</td>\n",
       "      <td>9297300055</td>\n",
       "      <td>16</td>\n",
       "    </tr>\n",
       "    <tr>\n",
       "      <th>16</th>\n",
       "      <td>2014-07-31</td>\n",
       "      <td>395000.000</td>\n",
       "      <td>1875500060</td>\n",
       "      <td>17</td>\n",
       "    </tr>\n",
       "    <tr>\n",
       "      <th>17</th>\n",
       "      <td>2014-05-29</td>\n",
       "      <td>485000.000</td>\n",
       "      <td>6865200140</td>\n",
       "      <td>18</td>\n",
       "    </tr>\n",
       "    <tr>\n",
       "      <th>18</th>\n",
       "      <td>2014-12-05</td>\n",
       "      <td>189000.000</td>\n",
       "      <td>16000397</td>\n",
       "      <td>19</td>\n",
       "    </tr>\n",
       "    <tr>\n",
       "      <th>19</th>\n",
       "      <td>2015-04-24</td>\n",
       "      <td>230000.000</td>\n",
       "      <td>7983200060</td>\n",
       "      <td>20</td>\n",
       "    </tr>\n",
       "    <tr>\n",
       "      <th>20</th>\n",
       "      <td>2014-05-14</td>\n",
       "      <td>385000.000</td>\n",
       "      <td>6300500875</td>\n",
       "      <td>21</td>\n",
       "    </tr>\n",
       "    <tr>\n",
       "      <th>21</th>\n",
       "      <td>2014-08-26</td>\n",
       "      <td>2000000.000</td>\n",
       "      <td>2524049179</td>\n",
       "      <td>22</td>\n",
       "    </tr>\n",
       "    <tr>\n",
       "      <th>22</th>\n",
       "      <td>2014-07-03</td>\n",
       "      <td>285000.000</td>\n",
       "      <td>7137970340</td>\n",
       "      <td>23</td>\n",
       "    </tr>\n",
       "    <tr>\n",
       "      <th>23</th>\n",
       "      <td>2014-05-16</td>\n",
       "      <td>252700.000</td>\n",
       "      <td>8091400200</td>\n",
       "      <td>24</td>\n",
       "    </tr>\n",
       "    <tr>\n",
       "      <th>24</th>\n",
       "      <td>2014-11-20</td>\n",
       "      <td>329000.000</td>\n",
       "      <td>3814700200</td>\n",
       "      <td>25</td>\n",
       "    </tr>\n",
       "  </tbody>\n",
       "</table>\n",
       "</div>"
      ],
      "text/plain": [
       "          date       price    house_id  id\n",
       "0   2014-10-13  221900.000  7129300520   1\n",
       "1   2014-12-09  538000.000  6414100192   2\n",
       "2   2015-02-25  180000.000  5631500400   3\n",
       "3   2014-12-09  604000.000  2487200875   4\n",
       "4   2015-02-18  510000.000  1954400510   5\n",
       "5   2014-05-12 1230000.000  7237550310   6\n",
       "6   2014-06-27  257500.000  1321400060   7\n",
       "7   2015-01-15  291850.000  2008000270   8\n",
       "8   2015-04-15  229500.000  2414600126   9\n",
       "9   2015-03-12  323000.000  3793500160  10\n",
       "10  2015-04-03  662500.000  1736800520  11\n",
       "11  2014-05-27  468000.000  9212900260  12\n",
       "12  2014-05-28  310000.000   114101516  13\n",
       "13  2014-10-07  400000.000  6054650070  14\n",
       "14  2015-03-12  530000.000  1175000570  15\n",
       "15  2015-01-24  650000.000  9297300055  16\n",
       "16  2014-07-31  395000.000  1875500060  17\n",
       "17  2014-05-29  485000.000  6865200140  18\n",
       "18  2014-12-05  189000.000    16000397  19\n",
       "19  2015-04-24  230000.000  7983200060  20\n",
       "20  2014-05-14  385000.000  6300500875  21\n",
       "21  2014-08-26 2000000.000  2524049179  22\n",
       "22  2014-07-03  285000.000  7137970340  23\n",
       "23  2014-05-16  252700.000  8091400200  24\n",
       "24  2014-11-20  329000.000  3814700200  25"
      ]
     },
     "execution_count": 178,
     "metadata": {},
     "output_type": "execute_result"
    }
   ],
   "source": [
    "df_sales.head(25)"
   ]
  },
  {
   "cell_type": "markdown",
   "metadata": {},
   "source": [
    "here i can change id to index\n",
    "* merge sales with details on house_id, change index not needed, can pop id"
   ]
  },
  {
   "cell_type": "markdown",
   "metadata": {},
   "source": [
    "## Data Cleaning"
   ]
  },
  {
   "cell_type": "markdown",
   "metadata": {},
   "source": [
    "### Merging sales.house_id ON details.id  "
   ]
  },
  {
   "cell_type": "code",
   "execution_count": 179,
   "metadata": {},
   "outputs": [],
   "source": [
    "# Perform the left join\n",
    "df = pd.merge(df_details, df_sales, how='left', left_on='id', right_on='house_id')"
   ]
  },
  {
   "cell_type": "code",
   "execution_count": 180,
   "metadata": {},
   "outputs": [
    {
     "data": {
      "text/html": [
       "<div>\n",
       "<style scoped>\n",
       "    .dataframe tbody tr th:only-of-type {\n",
       "        vertical-align: middle;\n",
       "    }\n",
       "\n",
       "    .dataframe tbody tr th {\n",
       "        vertical-align: top;\n",
       "    }\n",
       "\n",
       "    .dataframe thead th {\n",
       "        text-align: right;\n",
       "    }\n",
       "</style>\n",
       "<table border=\"1\" class=\"dataframe\">\n",
       "  <thead>\n",
       "    <tr style=\"text-align: right;\">\n",
       "      <th></th>\n",
       "      <th>id_x</th>\n",
       "      <th>bedrooms</th>\n",
       "      <th>bathrooms</th>\n",
       "      <th>sqft_living</th>\n",
       "      <th>sqft_lot</th>\n",
       "      <th>floors</th>\n",
       "      <th>waterfront</th>\n",
       "      <th>view</th>\n",
       "      <th>condition</th>\n",
       "      <th>grade</th>\n",
       "      <th>...</th>\n",
       "      <th>yr_renovated</th>\n",
       "      <th>zipcode</th>\n",
       "      <th>lat</th>\n",
       "      <th>long</th>\n",
       "      <th>sqft_living15</th>\n",
       "      <th>sqft_lot15</th>\n",
       "      <th>date</th>\n",
       "      <th>price</th>\n",
       "      <th>house_id</th>\n",
       "      <th>id_y</th>\n",
       "    </tr>\n",
       "  </thead>\n",
       "  <tbody>\n",
       "    <tr>\n",
       "      <th>0</th>\n",
       "      <td>1000102</td>\n",
       "      <td>6.000</td>\n",
       "      <td>3.000</td>\n",
       "      <td>2400.000</td>\n",
       "      <td>9373.000</td>\n",
       "      <td>2.000</td>\n",
       "      <td>NaN</td>\n",
       "      <td>0.000</td>\n",
       "      <td>3</td>\n",
       "      <td>7</td>\n",
       "      <td>...</td>\n",
       "      <td>0.000</td>\n",
       "      <td>98002</td>\n",
       "      <td>47.326</td>\n",
       "      <td>-122.214</td>\n",
       "      <td>2060.000</td>\n",
       "      <td>7316.000</td>\n",
       "      <td>2014-09-16</td>\n",
       "      <td>280000.000</td>\n",
       "      <td>1000102</td>\n",
       "      <td>2495</td>\n",
       "    </tr>\n",
       "    <tr>\n",
       "      <th>1</th>\n",
       "      <td>1000102</td>\n",
       "      <td>6.000</td>\n",
       "      <td>3.000</td>\n",
       "      <td>2400.000</td>\n",
       "      <td>9373.000</td>\n",
       "      <td>2.000</td>\n",
       "      <td>NaN</td>\n",
       "      <td>0.000</td>\n",
       "      <td>3</td>\n",
       "      <td>7</td>\n",
       "      <td>...</td>\n",
       "      <td>0.000</td>\n",
       "      <td>98002</td>\n",
       "      <td>47.326</td>\n",
       "      <td>-122.214</td>\n",
       "      <td>2060.000</td>\n",
       "      <td>7316.000</td>\n",
       "      <td>2015-04-22</td>\n",
       "      <td>300000.000</td>\n",
       "      <td>1000102</td>\n",
       "      <td>2496</td>\n",
       "    </tr>\n",
       "    <tr>\n",
       "      <th>2</th>\n",
       "      <td>100100050</td>\n",
       "      <td>3.000</td>\n",
       "      <td>1.000</td>\n",
       "      <td>1320.000</td>\n",
       "      <td>11090.000</td>\n",
       "      <td>1.000</td>\n",
       "      <td>0.000</td>\n",
       "      <td>0.000</td>\n",
       "      <td>3</td>\n",
       "      <td>7</td>\n",
       "      <td>...</td>\n",
       "      <td>0.000</td>\n",
       "      <td>98155</td>\n",
       "      <td>47.775</td>\n",
       "      <td>-122.304</td>\n",
       "      <td>1320.000</td>\n",
       "      <td>8319.000</td>\n",
       "      <td>2014-11-12</td>\n",
       "      <td>275000.000</td>\n",
       "      <td>100100050</td>\n",
       "      <td>7320</td>\n",
       "    </tr>\n",
       "    <tr>\n",
       "      <th>3</th>\n",
       "      <td>1001200035</td>\n",
       "      <td>3.000</td>\n",
       "      <td>1.000</td>\n",
       "      <td>1350.000</td>\n",
       "      <td>7973.000</td>\n",
       "      <td>1.500</td>\n",
       "      <td>NaN</td>\n",
       "      <td>0.000</td>\n",
       "      <td>3</td>\n",
       "      <td>7</td>\n",
       "      <td>...</td>\n",
       "      <td>0.000</td>\n",
       "      <td>98188</td>\n",
       "      <td>47.432</td>\n",
       "      <td>-122.292</td>\n",
       "      <td>1310.000</td>\n",
       "      <td>7491.000</td>\n",
       "      <td>2015-03-06</td>\n",
       "      <td>272450.000</td>\n",
       "      <td>1001200035</td>\n",
       "      <td>13278</td>\n",
       "    </tr>\n",
       "    <tr>\n",
       "      <th>4</th>\n",
       "      <td>1001200050</td>\n",
       "      <td>4.000</td>\n",
       "      <td>1.500</td>\n",
       "      <td>1260.000</td>\n",
       "      <td>7248.000</td>\n",
       "      <td>1.500</td>\n",
       "      <td>NaN</td>\n",
       "      <td>0.000</td>\n",
       "      <td>5</td>\n",
       "      <td>7</td>\n",
       "      <td>...</td>\n",
       "      <td>NaN</td>\n",
       "      <td>98188</td>\n",
       "      <td>47.433</td>\n",
       "      <td>-122.292</td>\n",
       "      <td>1300.000</td>\n",
       "      <td>7732.000</td>\n",
       "      <td>2014-09-23</td>\n",
       "      <td>259000.000</td>\n",
       "      <td>1001200050</td>\n",
       "      <td>15529</td>\n",
       "    </tr>\n",
       "    <tr>\n",
       "      <th>5</th>\n",
       "      <td>1003000175</td>\n",
       "      <td>3.000</td>\n",
       "      <td>1.000</td>\n",
       "      <td>980.000</td>\n",
       "      <td>7606.000</td>\n",
       "      <td>1.000</td>\n",
       "      <td>0.000</td>\n",
       "      <td>0.000</td>\n",
       "      <td>3</td>\n",
       "      <td>7</td>\n",
       "      <td>...</td>\n",
       "      <td>0.000</td>\n",
       "      <td>98188</td>\n",
       "      <td>47.436</td>\n",
       "      <td>-122.290</td>\n",
       "      <td>980.000</td>\n",
       "      <td>8125.000</td>\n",
       "      <td>2014-12-22</td>\n",
       "      <td>221000.000</td>\n",
       "      <td>1003000175</td>\n",
       "      <td>14057</td>\n",
       "    </tr>\n",
       "    <tr>\n",
       "      <th>6</th>\n",
       "      <td>100300280</td>\n",
       "      <td>3.000</td>\n",
       "      <td>2.250</td>\n",
       "      <td>1430.000</td>\n",
       "      <td>4777.000</td>\n",
       "      <td>2.000</td>\n",
       "      <td>0.000</td>\n",
       "      <td>0.000</td>\n",
       "      <td>3</td>\n",
       "      <td>7</td>\n",
       "      <td>...</td>\n",
       "      <td>0.000</td>\n",
       "      <td>98059</td>\n",
       "      <td>47.487</td>\n",
       "      <td>-122.152</td>\n",
       "      <td>1639.000</td>\n",
       "      <td>3854.000</td>\n",
       "      <td>2014-10-20</td>\n",
       "      <td>355000.000</td>\n",
       "      <td>100300280</td>\n",
       "      <td>21277</td>\n",
       "    </tr>\n",
       "    <tr>\n",
       "      <th>7</th>\n",
       "      <td>100300500</td>\n",
       "      <td>3.000</td>\n",
       "      <td>2.500</td>\n",
       "      <td>1520.000</td>\n",
       "      <td>3041.000</td>\n",
       "      <td>2.000</td>\n",
       "      <td>0.000</td>\n",
       "      <td>0.000</td>\n",
       "      <td>3</td>\n",
       "      <td>7</td>\n",
       "      <td>...</td>\n",
       "      <td>NaN</td>\n",
       "      <td>98059</td>\n",
       "      <td>47.487</td>\n",
       "      <td>-122.152</td>\n",
       "      <td>1820.000</td>\n",
       "      <td>3229.000</td>\n",
       "      <td>2014-11-21</td>\n",
       "      <td>333000.000</td>\n",
       "      <td>100300500</td>\n",
       "      <td>20282</td>\n",
       "    </tr>\n",
       "    <tr>\n",
       "      <th>8</th>\n",
       "      <td>100300530</td>\n",
       "      <td>3.000</td>\n",
       "      <td>2.500</td>\n",
       "      <td>1520.000</td>\n",
       "      <td>3003.000</td>\n",
       "      <td>2.000</td>\n",
       "      <td>0.000</td>\n",
       "      <td>0.000</td>\n",
       "      <td>3</td>\n",
       "      <td>7</td>\n",
       "      <td>...</td>\n",
       "      <td>0.000</td>\n",
       "      <td>98059</td>\n",
       "      <td>47.488</td>\n",
       "      <td>-122.153</td>\n",
       "      <td>1820.000</td>\n",
       "      <td>3030.000</td>\n",
       "      <td>2014-09-25</td>\n",
       "      <td>330000.000</td>\n",
       "      <td>100300530</td>\n",
       "      <td>21460</td>\n",
       "    </tr>\n",
       "    <tr>\n",
       "      <th>9</th>\n",
       "      <td>1003400155</td>\n",
       "      <td>3.000</td>\n",
       "      <td>1.000</td>\n",
       "      <td>1100.000</td>\n",
       "      <td>7657.000</td>\n",
       "      <td>1.000</td>\n",
       "      <td>0.000</td>\n",
       "      <td>0.000</td>\n",
       "      <td>3</td>\n",
       "      <td>7</td>\n",
       "      <td>...</td>\n",
       "      <td>0.000</td>\n",
       "      <td>98188</td>\n",
       "      <td>47.437</td>\n",
       "      <td>-122.285</td>\n",
       "      <td>1300.000</td>\n",
       "      <td>8000.000</td>\n",
       "      <td>2014-08-11</td>\n",
       "      <td>233000.000</td>\n",
       "      <td>1003400155</td>\n",
       "      <td>13519</td>\n",
       "    </tr>\n",
       "    <tr>\n",
       "      <th>10</th>\n",
       "      <td>1003400245</td>\n",
       "      <td>3.000</td>\n",
       "      <td>1.000</td>\n",
       "      <td>1130.000</td>\n",
       "      <td>9907.000</td>\n",
       "      <td>1.000</td>\n",
       "      <td>0.000</td>\n",
       "      <td>0.000</td>\n",
       "      <td>3</td>\n",
       "      <td>7</td>\n",
       "      <td>...</td>\n",
       "      <td>0.000</td>\n",
       "      <td>98188</td>\n",
       "      <td>47.436</td>\n",
       "      <td>-122.286</td>\n",
       "      <td>1320.000</td>\n",
       "      <td>9907.000</td>\n",
       "      <td>2014-12-01</td>\n",
       "      <td>179950.000</td>\n",
       "      <td>1003400245</td>\n",
       "      <td>3688</td>\n",
       "    </tr>\n",
       "    <tr>\n",
       "      <th>11</th>\n",
       "      <td>1003400250</td>\n",
       "      <td>3.000</td>\n",
       "      <td>1.000</td>\n",
       "      <td>1130.000</td>\n",
       "      <td>10650.000</td>\n",
       "      <td>1.000</td>\n",
       "      <td>0.000</td>\n",
       "      <td>0.000</td>\n",
       "      <td>3</td>\n",
       "      <td>7</td>\n",
       "      <td>...</td>\n",
       "      <td>0.000</td>\n",
       "      <td>98188</td>\n",
       "      <td>47.436</td>\n",
       "      <td>-122.286</td>\n",
       "      <td>1320.000</td>\n",
       "      <td>10650.000</td>\n",
       "      <td>2014-06-05</td>\n",
       "      <td>237000.000</td>\n",
       "      <td>1003400250</td>\n",
       "      <td>15622</td>\n",
       "    </tr>\n",
       "    <tr>\n",
       "      <th>12</th>\n",
       "      <td>1003600056</td>\n",
       "      <td>4.000</td>\n",
       "      <td>2.000</td>\n",
       "      <td>1370.000</td>\n",
       "      <td>8837.000</td>\n",
       "      <td>1.500</td>\n",
       "      <td>0.000</td>\n",
       "      <td>0.000</td>\n",
       "      <td>3</td>\n",
       "      <td>7</td>\n",
       "      <td>...</td>\n",
       "      <td>NaN</td>\n",
       "      <td>98188</td>\n",
       "      <td>47.439</td>\n",
       "      <td>-122.285</td>\n",
       "      <td>1360.000</td>\n",
       "      <td>9000.000</td>\n",
       "      <td>2014-10-24</td>\n",
       "      <td>239000.000</td>\n",
       "      <td>1003600056</td>\n",
       "      <td>3929</td>\n",
       "    </tr>\n",
       "    <tr>\n",
       "      <th>13</th>\n",
       "      <td>1003600080</td>\n",
       "      <td>3.000</td>\n",
       "      <td>1.000</td>\n",
       "      <td>1010.000</td>\n",
       "      <td>9678.000</td>\n",
       "      <td>1.000</td>\n",
       "      <td>0.000</td>\n",
       "      <td>0.000</td>\n",
       "      <td>5</td>\n",
       "      <td>7</td>\n",
       "      <td>...</td>\n",
       "      <td>0.000</td>\n",
       "      <td>98188</td>\n",
       "      <td>47.440</td>\n",
       "      <td>-122.285</td>\n",
       "      <td>1010.000</td>\n",
       "      <td>9375.000</td>\n",
       "      <td>2014-11-07</td>\n",
       "      <td>245000.000</td>\n",
       "      <td>1003600080</td>\n",
       "      <td>4921</td>\n",
       "    </tr>\n",
       "    <tr>\n",
       "      <th>14</th>\n",
       "      <td>1005000036</td>\n",
       "      <td>3.000</td>\n",
       "      <td>1.750</td>\n",
       "      <td>1840.000</td>\n",
       "      <td>8601.000</td>\n",
       "      <td>1.000</td>\n",
       "      <td>0.000</td>\n",
       "      <td>0.000</td>\n",
       "      <td>3</td>\n",
       "      <td>7</td>\n",
       "      <td>...</td>\n",
       "      <td>20140.000</td>\n",
       "      <td>98118</td>\n",
       "      <td>47.536</td>\n",
       "      <td>-122.276</td>\n",
       "      <td>1390.000</td>\n",
       "      <td>7452.000</td>\n",
       "      <td>2014-06-13</td>\n",
       "      <td>285000.000</td>\n",
       "      <td>1005000036</td>\n",
       "      <td>2504</td>\n",
       "    </tr>\n",
       "    <tr>\n",
       "      <th>15</th>\n",
       "      <td>1005000062</td>\n",
       "      <td>2.000</td>\n",
       "      <td>1.000</td>\n",
       "      <td>1040.000</td>\n",
       "      <td>4600.000</td>\n",
       "      <td>1.000</td>\n",
       "      <td>0.000</td>\n",
       "      <td>0.000</td>\n",
       "      <td>4</td>\n",
       "      <td>6</td>\n",
       "      <td>...</td>\n",
       "      <td>0.000</td>\n",
       "      <td>98118</td>\n",
       "      <td>47.539</td>\n",
       "      <td>-122.277</td>\n",
       "      <td>1390.000</td>\n",
       "      <td>5897.000</td>\n",
       "      <td>2014-08-01</td>\n",
       "      <td>299000.000</td>\n",
       "      <td>1005000062</td>\n",
       "      <td>17830</td>\n",
       "    </tr>\n",
       "    <tr>\n",
       "      <th>16</th>\n",
       "      <td>100500020</td>\n",
       "      <td>3.000</td>\n",
       "      <td>2.500</td>\n",
       "      <td>1610.000</td>\n",
       "      <td>6600.000</td>\n",
       "      <td>2.000</td>\n",
       "      <td>0.000</td>\n",
       "      <td>0.000</td>\n",
       "      <td>3</td>\n",
       "      <td>7</td>\n",
       "      <td>...</td>\n",
       "      <td>0.000</td>\n",
       "      <td>98003</td>\n",
       "      <td>47.283</td>\n",
       "      <td>-122.302</td>\n",
       "      <td>1660.000</td>\n",
       "      <td>7689.000</td>\n",
       "      <td>2014-09-11</td>\n",
       "      <td>250000.000</td>\n",
       "      <td>100500020</td>\n",
       "      <td>15244</td>\n",
       "    </tr>\n",
       "    <tr>\n",
       "      <th>17</th>\n",
       "      <td>1005000220</td>\n",
       "      <td>2.000</td>\n",
       "      <td>1.000</td>\n",
       "      <td>2020.000</td>\n",
       "      <td>7540.000</td>\n",
       "      <td>1.000</td>\n",
       "      <td>0.000</td>\n",
       "      <td>0.000</td>\n",
       "      <td>3</td>\n",
       "      <td>7</td>\n",
       "      <td>...</td>\n",
       "      <td>0.000</td>\n",
       "      <td>98118</td>\n",
       "      <td>47.536</td>\n",
       "      <td>-122.280</td>\n",
       "      <td>1270.000</td>\n",
       "      <td>4652.000</td>\n",
       "      <td>2015-03-10</td>\n",
       "      <td>410000.000</td>\n",
       "      <td>1005000220</td>\n",
       "      <td>13228</td>\n",
       "    </tr>\n",
       "    <tr>\n",
       "      <th>18</th>\n",
       "      <td>1005000240</td>\n",
       "      <td>2.000</td>\n",
       "      <td>1.000</td>\n",
       "      <td>1200.000</td>\n",
       "      <td>6014.000</td>\n",
       "      <td>1.000</td>\n",
       "      <td>0.000</td>\n",
       "      <td>0.000</td>\n",
       "      <td>4</td>\n",
       "      <td>6</td>\n",
       "      <td>...</td>\n",
       "      <td>0.000</td>\n",
       "      <td>98118</td>\n",
       "      <td>47.536</td>\n",
       "      <td>-122.280</td>\n",
       "      <td>1270.000</td>\n",
       "      <td>4652.000</td>\n",
       "      <td>2014-12-19</td>\n",
       "      <td>395000.000</td>\n",
       "      <td>1005000240</td>\n",
       "      <td>11218</td>\n",
       "    </tr>\n",
       "    <tr>\n",
       "      <th>19</th>\n",
       "      <td>1005000250</td>\n",
       "      <td>2.000</td>\n",
       "      <td>1.000</td>\n",
       "      <td>840.000</td>\n",
       "      <td>5551.000</td>\n",
       "      <td>1.000</td>\n",
       "      <td>0.000</td>\n",
       "      <td>0.000</td>\n",
       "      <td>3</td>\n",
       "      <td>6</td>\n",
       "      <td>...</td>\n",
       "      <td>0.000</td>\n",
       "      <td>98118</td>\n",
       "      <td>47.535</td>\n",
       "      <td>-122.280</td>\n",
       "      <td>1270.000</td>\n",
       "      <td>4652.000</td>\n",
       "      <td>2015-01-30</td>\n",
       "      <td>350000.000</td>\n",
       "      <td>1005000250</td>\n",
       "      <td>7249</td>\n",
       "    </tr>\n",
       "    <tr>\n",
       "      <th>20</th>\n",
       "      <td>100600320</td>\n",
       "      <td>3.000</td>\n",
       "      <td>1.000</td>\n",
       "      <td>1430.000</td>\n",
       "      <td>7000.000</td>\n",
       "      <td>1.000</td>\n",
       "      <td>0.000</td>\n",
       "      <td>0.000</td>\n",
       "      <td>3</td>\n",
       "      <td>6</td>\n",
       "      <td>...</td>\n",
       "      <td>NaN</td>\n",
       "      <td>98023</td>\n",
       "      <td>47.302</td>\n",
       "      <td>-122.369</td>\n",
       "      <td>1050.000</td>\n",
       "      <td>7700.000</td>\n",
       "      <td>2014-08-13</td>\n",
       "      <td>213950.000</td>\n",
       "      <td>100600320</td>\n",
       "      <td>10851</td>\n",
       "    </tr>\n",
       "    <tr>\n",
       "      <th>21</th>\n",
       "      <td>100600550</td>\n",
       "      <td>3.000</td>\n",
       "      <td>1.500</td>\n",
       "      <td>1300.000</td>\n",
       "      <td>7370.000</td>\n",
       "      <td>1.000</td>\n",
       "      <td>0.000</td>\n",
       "      <td>0.000</td>\n",
       "      <td>4</td>\n",
       "      <td>7</td>\n",
       "      <td>...</td>\n",
       "      <td>0.000</td>\n",
       "      <td>98023</td>\n",
       "      <td>47.303</td>\n",
       "      <td>-122.370</td>\n",
       "      <td>1430.000</td>\n",
       "      <td>7500.000</td>\n",
       "      <td>2014-08-04</td>\n",
       "      <td>226500.000</td>\n",
       "      <td>100600550</td>\n",
       "      <td>204</td>\n",
       "    </tr>\n",
       "    <tr>\n",
       "      <th>22</th>\n",
       "      <td>100600860</td>\n",
       "      <td>3.000</td>\n",
       "      <td>1.750</td>\n",
       "      <td>1050.000</td>\n",
       "      <td>7854.000</td>\n",
       "      <td>1.000</td>\n",
       "      <td>0.000</td>\n",
       "      <td>0.000</td>\n",
       "      <td>4</td>\n",
       "      <td>7</td>\n",
       "      <td>...</td>\n",
       "      <td>0.000</td>\n",
       "      <td>98023</td>\n",
       "      <td>47.301</td>\n",
       "      <td>-122.369</td>\n",
       "      <td>1360.000</td>\n",
       "      <td>7668.000</td>\n",
       "      <td>2015-03-24</td>\n",
       "      <td>237500.000</td>\n",
       "      <td>100600860</td>\n",
       "      <td>977</td>\n",
       "    </tr>\n",
       "    <tr>\n",
       "      <th>23</th>\n",
       "      <td>1015000050</td>\n",
       "      <td>4.000</td>\n",
       "      <td>2.500</td>\n",
       "      <td>2220.000</td>\n",
       "      <td>5900.000</td>\n",
       "      <td>2.000</td>\n",
       "      <td>0.000</td>\n",
       "      <td>0.000</td>\n",
       "      <td>3</td>\n",
       "      <td>8</td>\n",
       "      <td>...</td>\n",
       "      <td>0.000</td>\n",
       "      <td>98117</td>\n",
       "      <td>47.696</td>\n",
       "      <td>-122.360</td>\n",
       "      <td>1620.000</td>\n",
       "      <td>5900.000</td>\n",
       "      <td>2015-01-06</td>\n",
       "      <td>652600.000</td>\n",
       "      <td>1015000050</td>\n",
       "      <td>15969</td>\n",
       "    </tr>\n",
       "    <tr>\n",
       "      <th>24</th>\n",
       "      <td>1015500300</td>\n",
       "      <td>3.000</td>\n",
       "      <td>2.500</td>\n",
       "      <td>1870.000</td>\n",
       "      <td>7344.000</td>\n",
       "      <td>1.000</td>\n",
       "      <td>0.000</td>\n",
       "      <td>0.000</td>\n",
       "      <td>3</td>\n",
       "      <td>8</td>\n",
       "      <td>...</td>\n",
       "      <td>0.000</td>\n",
       "      <td>98034</td>\n",
       "      <td>47.727</td>\n",
       "      <td>-122.206</td>\n",
       "      <td>1930.000</td>\n",
       "      <td>7344.000</td>\n",
       "      <td>2014-05-15</td>\n",
       "      <td>455000.000</td>\n",
       "      <td>1015500300</td>\n",
       "      <td>4320</td>\n",
       "    </tr>\n",
       "  </tbody>\n",
       "</table>\n",
       "<p>25 rows × 23 columns</p>\n",
       "</div>"
      ],
      "text/plain": [
       "          id_x  bedrooms  bathrooms  sqft_living  sqft_lot  floors  \\\n",
       "0      1000102     6.000      3.000     2400.000  9373.000   2.000   \n",
       "1      1000102     6.000      3.000     2400.000  9373.000   2.000   \n",
       "2    100100050     3.000      1.000     1320.000 11090.000   1.000   \n",
       "3   1001200035     3.000      1.000     1350.000  7973.000   1.500   \n",
       "4   1001200050     4.000      1.500     1260.000  7248.000   1.500   \n",
       "5   1003000175     3.000      1.000      980.000  7606.000   1.000   \n",
       "6    100300280     3.000      2.250     1430.000  4777.000   2.000   \n",
       "7    100300500     3.000      2.500     1520.000  3041.000   2.000   \n",
       "8    100300530     3.000      2.500     1520.000  3003.000   2.000   \n",
       "9   1003400155     3.000      1.000     1100.000  7657.000   1.000   \n",
       "10  1003400245     3.000      1.000     1130.000  9907.000   1.000   \n",
       "11  1003400250     3.000      1.000     1130.000 10650.000   1.000   \n",
       "12  1003600056     4.000      2.000     1370.000  8837.000   1.500   \n",
       "13  1003600080     3.000      1.000     1010.000  9678.000   1.000   \n",
       "14  1005000036     3.000      1.750     1840.000  8601.000   1.000   \n",
       "15  1005000062     2.000      1.000     1040.000  4600.000   1.000   \n",
       "16   100500020     3.000      2.500     1610.000  6600.000   2.000   \n",
       "17  1005000220     2.000      1.000     2020.000  7540.000   1.000   \n",
       "18  1005000240     2.000      1.000     1200.000  6014.000   1.000   \n",
       "19  1005000250     2.000      1.000      840.000  5551.000   1.000   \n",
       "20   100600320     3.000      1.000     1430.000  7000.000   1.000   \n",
       "21   100600550     3.000      1.500     1300.000  7370.000   1.000   \n",
       "22   100600860     3.000      1.750     1050.000  7854.000   1.000   \n",
       "23  1015000050     4.000      2.500     2220.000  5900.000   2.000   \n",
       "24  1015500300     3.000      2.500     1870.000  7344.000   1.000   \n",
       "\n",
       "    waterfront  view  condition  grade  ...  yr_renovated  zipcode    lat  \\\n",
       "0          NaN 0.000          3      7  ...         0.000    98002 47.326   \n",
       "1          NaN 0.000          3      7  ...         0.000    98002 47.326   \n",
       "2        0.000 0.000          3      7  ...         0.000    98155 47.775   \n",
       "3          NaN 0.000          3      7  ...         0.000    98188 47.432   \n",
       "4          NaN 0.000          5      7  ...           NaN    98188 47.433   \n",
       "5        0.000 0.000          3      7  ...         0.000    98188 47.436   \n",
       "6        0.000 0.000          3      7  ...         0.000    98059 47.487   \n",
       "7        0.000 0.000          3      7  ...           NaN    98059 47.487   \n",
       "8        0.000 0.000          3      7  ...         0.000    98059 47.488   \n",
       "9        0.000 0.000          3      7  ...         0.000    98188 47.437   \n",
       "10       0.000 0.000          3      7  ...         0.000    98188 47.436   \n",
       "11       0.000 0.000          3      7  ...         0.000    98188 47.436   \n",
       "12       0.000 0.000          3      7  ...           NaN    98188 47.439   \n",
       "13       0.000 0.000          5      7  ...         0.000    98188 47.440   \n",
       "14       0.000 0.000          3      7  ...     20140.000    98118 47.536   \n",
       "15       0.000 0.000          4      6  ...         0.000    98118 47.539   \n",
       "16       0.000 0.000          3      7  ...         0.000    98003 47.283   \n",
       "17       0.000 0.000          3      7  ...         0.000    98118 47.536   \n",
       "18       0.000 0.000          4      6  ...         0.000    98118 47.536   \n",
       "19       0.000 0.000          3      6  ...         0.000    98118 47.535   \n",
       "20       0.000 0.000          3      6  ...           NaN    98023 47.302   \n",
       "21       0.000 0.000          4      7  ...         0.000    98023 47.303   \n",
       "22       0.000 0.000          4      7  ...         0.000    98023 47.301   \n",
       "23       0.000 0.000          3      8  ...         0.000    98117 47.696   \n",
       "24       0.000 0.000          3      8  ...         0.000    98034 47.727   \n",
       "\n",
       "       long  sqft_living15  sqft_lot15        date      price    house_id  \\\n",
       "0  -122.214       2060.000    7316.000  2014-09-16 280000.000     1000102   \n",
       "1  -122.214       2060.000    7316.000  2015-04-22 300000.000     1000102   \n",
       "2  -122.304       1320.000    8319.000  2014-11-12 275000.000   100100050   \n",
       "3  -122.292       1310.000    7491.000  2015-03-06 272450.000  1001200035   \n",
       "4  -122.292       1300.000    7732.000  2014-09-23 259000.000  1001200050   \n",
       "5  -122.290        980.000    8125.000  2014-12-22 221000.000  1003000175   \n",
       "6  -122.152       1639.000    3854.000  2014-10-20 355000.000   100300280   \n",
       "7  -122.152       1820.000    3229.000  2014-11-21 333000.000   100300500   \n",
       "8  -122.153       1820.000    3030.000  2014-09-25 330000.000   100300530   \n",
       "9  -122.285       1300.000    8000.000  2014-08-11 233000.000  1003400155   \n",
       "10 -122.286       1320.000    9907.000  2014-12-01 179950.000  1003400245   \n",
       "11 -122.286       1320.000   10650.000  2014-06-05 237000.000  1003400250   \n",
       "12 -122.285       1360.000    9000.000  2014-10-24 239000.000  1003600056   \n",
       "13 -122.285       1010.000    9375.000  2014-11-07 245000.000  1003600080   \n",
       "14 -122.276       1390.000    7452.000  2014-06-13 285000.000  1005000036   \n",
       "15 -122.277       1390.000    5897.000  2014-08-01 299000.000  1005000062   \n",
       "16 -122.302       1660.000    7689.000  2014-09-11 250000.000   100500020   \n",
       "17 -122.280       1270.000    4652.000  2015-03-10 410000.000  1005000220   \n",
       "18 -122.280       1270.000    4652.000  2014-12-19 395000.000  1005000240   \n",
       "19 -122.280       1270.000    4652.000  2015-01-30 350000.000  1005000250   \n",
       "20 -122.369       1050.000    7700.000  2014-08-13 213950.000   100600320   \n",
       "21 -122.370       1430.000    7500.000  2014-08-04 226500.000   100600550   \n",
       "22 -122.369       1360.000    7668.000  2015-03-24 237500.000   100600860   \n",
       "23 -122.360       1620.000    5900.000  2015-01-06 652600.000  1015000050   \n",
       "24 -122.206       1930.000    7344.000  2014-05-15 455000.000  1015500300   \n",
       "\n",
       "     id_y  \n",
       "0    2495  \n",
       "1    2496  \n",
       "2    7320  \n",
       "3   13278  \n",
       "4   15529  \n",
       "5   14057  \n",
       "6   21277  \n",
       "7   20282  \n",
       "8   21460  \n",
       "9   13519  \n",
       "10   3688  \n",
       "11  15622  \n",
       "12   3929  \n",
       "13   4921  \n",
       "14   2504  \n",
       "15  17830  \n",
       "16  15244  \n",
       "17  13228  \n",
       "18  11218  \n",
       "19   7249  \n",
       "20  10851  \n",
       "21    204  \n",
       "22    977  \n",
       "23  15969  \n",
       "24   4320  \n",
       "\n",
       "[25 rows x 23 columns]"
      ]
     },
     "execution_count": 180,
     "metadata": {},
     "output_type": "execute_result"
    }
   ],
   "source": [
    "df.head(25)"
   ]
  },
  {
   "cell_type": "markdown",
   "metadata": {},
   "source": [
    "After merging, I drop id_x & id_y and set house_id to new index "
   ]
  },
  {
   "cell_type": "code",
   "execution_count": 181,
   "metadata": {},
   "outputs": [
    {
     "data": {
      "text/html": [
       "<div>\n",
       "<style scoped>\n",
       "    .dataframe tbody tr th:only-of-type {\n",
       "        vertical-align: middle;\n",
       "    }\n",
       "\n",
       "    .dataframe tbody tr th {\n",
       "        vertical-align: top;\n",
       "    }\n",
       "\n",
       "    .dataframe thead th {\n",
       "        text-align: right;\n",
       "    }\n",
       "</style>\n",
       "<table border=\"1\" class=\"dataframe\">\n",
       "  <thead>\n",
       "    <tr style=\"text-align: right;\">\n",
       "      <th></th>\n",
       "      <th>bedrooms</th>\n",
       "      <th>bathrooms</th>\n",
       "      <th>sqft_living</th>\n",
       "      <th>sqft_lot</th>\n",
       "      <th>floors</th>\n",
       "      <th>waterfront</th>\n",
       "      <th>view</th>\n",
       "      <th>condition</th>\n",
       "      <th>grade</th>\n",
       "      <th>sqft_above</th>\n",
       "      <th>sqft_basement</th>\n",
       "      <th>yr_built</th>\n",
       "      <th>yr_renovated</th>\n",
       "      <th>zipcode</th>\n",
       "      <th>lat</th>\n",
       "      <th>long</th>\n",
       "      <th>sqft_living15</th>\n",
       "      <th>sqft_lot15</th>\n",
       "      <th>date</th>\n",
       "      <th>price</th>\n",
       "    </tr>\n",
       "    <tr>\n",
       "      <th>house_id</th>\n",
       "      <th></th>\n",
       "      <th></th>\n",
       "      <th></th>\n",
       "      <th></th>\n",
       "      <th></th>\n",
       "      <th></th>\n",
       "      <th></th>\n",
       "      <th></th>\n",
       "      <th></th>\n",
       "      <th></th>\n",
       "      <th></th>\n",
       "      <th></th>\n",
       "      <th></th>\n",
       "      <th></th>\n",
       "      <th></th>\n",
       "      <th></th>\n",
       "      <th></th>\n",
       "      <th></th>\n",
       "      <th></th>\n",
       "      <th></th>\n",
       "    </tr>\n",
       "  </thead>\n",
       "  <tbody>\n",
       "    <tr>\n",
       "      <th>1000102</th>\n",
       "      <td>6.000</td>\n",
       "      <td>3.000</td>\n",
       "      <td>2400.000</td>\n",
       "      <td>9373.000</td>\n",
       "      <td>2.000</td>\n",
       "      <td>NaN</td>\n",
       "      <td>0.000</td>\n",
       "      <td>3</td>\n",
       "      <td>7</td>\n",
       "      <td>2400.000</td>\n",
       "      <td>0.000</td>\n",
       "      <td>1991</td>\n",
       "      <td>0.000</td>\n",
       "      <td>98002</td>\n",
       "      <td>47.326</td>\n",
       "      <td>-122.214</td>\n",
       "      <td>2060.000</td>\n",
       "      <td>7316.000</td>\n",
       "      <td>2014-09-16</td>\n",
       "      <td>280000.000</td>\n",
       "    </tr>\n",
       "    <tr>\n",
       "      <th>1000102</th>\n",
       "      <td>6.000</td>\n",
       "      <td>3.000</td>\n",
       "      <td>2400.000</td>\n",
       "      <td>9373.000</td>\n",
       "      <td>2.000</td>\n",
       "      <td>NaN</td>\n",
       "      <td>0.000</td>\n",
       "      <td>3</td>\n",
       "      <td>7</td>\n",
       "      <td>2400.000</td>\n",
       "      <td>0.000</td>\n",
       "      <td>1991</td>\n",
       "      <td>0.000</td>\n",
       "      <td>98002</td>\n",
       "      <td>47.326</td>\n",
       "      <td>-122.214</td>\n",
       "      <td>2060.000</td>\n",
       "      <td>7316.000</td>\n",
       "      <td>2015-04-22</td>\n",
       "      <td>300000.000</td>\n",
       "    </tr>\n",
       "    <tr>\n",
       "      <th>100100050</th>\n",
       "      <td>3.000</td>\n",
       "      <td>1.000</td>\n",
       "      <td>1320.000</td>\n",
       "      <td>11090.000</td>\n",
       "      <td>1.000</td>\n",
       "      <td>0.000</td>\n",
       "      <td>0.000</td>\n",
       "      <td>3</td>\n",
       "      <td>7</td>\n",
       "      <td>1320.000</td>\n",
       "      <td>0.000</td>\n",
       "      <td>1955</td>\n",
       "      <td>0.000</td>\n",
       "      <td>98155</td>\n",
       "      <td>47.775</td>\n",
       "      <td>-122.304</td>\n",
       "      <td>1320.000</td>\n",
       "      <td>8319.000</td>\n",
       "      <td>2014-11-12</td>\n",
       "      <td>275000.000</td>\n",
       "    </tr>\n",
       "    <tr>\n",
       "      <th>1001200035</th>\n",
       "      <td>3.000</td>\n",
       "      <td>1.000</td>\n",
       "      <td>1350.000</td>\n",
       "      <td>7973.000</td>\n",
       "      <td>1.500</td>\n",
       "      <td>NaN</td>\n",
       "      <td>0.000</td>\n",
       "      <td>3</td>\n",
       "      <td>7</td>\n",
       "      <td>1350.000</td>\n",
       "      <td>0.000</td>\n",
       "      <td>1954</td>\n",
       "      <td>0.000</td>\n",
       "      <td>98188</td>\n",
       "      <td>47.432</td>\n",
       "      <td>-122.292</td>\n",
       "      <td>1310.000</td>\n",
       "      <td>7491.000</td>\n",
       "      <td>2015-03-06</td>\n",
       "      <td>272450.000</td>\n",
       "    </tr>\n",
       "    <tr>\n",
       "      <th>1001200050</th>\n",
       "      <td>4.000</td>\n",
       "      <td>1.500</td>\n",
       "      <td>1260.000</td>\n",
       "      <td>7248.000</td>\n",
       "      <td>1.500</td>\n",
       "      <td>NaN</td>\n",
       "      <td>0.000</td>\n",
       "      <td>5</td>\n",
       "      <td>7</td>\n",
       "      <td>1260.000</td>\n",
       "      <td>0.000</td>\n",
       "      <td>1955</td>\n",
       "      <td>NaN</td>\n",
       "      <td>98188</td>\n",
       "      <td>47.433</td>\n",
       "      <td>-122.292</td>\n",
       "      <td>1300.000</td>\n",
       "      <td>7732.000</td>\n",
       "      <td>2014-09-23</td>\n",
       "      <td>259000.000</td>\n",
       "    </tr>\n",
       "  </tbody>\n",
       "</table>\n",
       "</div>"
      ],
      "text/plain": [
       "            bedrooms  bathrooms  sqft_living  sqft_lot  floors  waterfront  \\\n",
       "house_id                                                                     \n",
       "1000102        6.000      3.000     2400.000  9373.000   2.000         NaN   \n",
       "1000102        6.000      3.000     2400.000  9373.000   2.000         NaN   \n",
       "100100050      3.000      1.000     1320.000 11090.000   1.000       0.000   \n",
       "1001200035     3.000      1.000     1350.000  7973.000   1.500         NaN   \n",
       "1001200050     4.000      1.500     1260.000  7248.000   1.500         NaN   \n",
       "\n",
       "            view  condition  grade  sqft_above  sqft_basement  yr_built  \\\n",
       "house_id                                                                  \n",
       "1000102    0.000          3      7    2400.000          0.000      1991   \n",
       "1000102    0.000          3      7    2400.000          0.000      1991   \n",
       "100100050  0.000          3      7    1320.000          0.000      1955   \n",
       "1001200035 0.000          3      7    1350.000          0.000      1954   \n",
       "1001200050 0.000          5      7    1260.000          0.000      1955   \n",
       "\n",
       "            yr_renovated  zipcode    lat     long  sqft_living15  sqft_lot15  \\\n",
       "house_id                                                                       \n",
       "1000102            0.000    98002 47.326 -122.214       2060.000    7316.000   \n",
       "1000102            0.000    98002 47.326 -122.214       2060.000    7316.000   \n",
       "100100050          0.000    98155 47.775 -122.304       1320.000    8319.000   \n",
       "1001200035         0.000    98188 47.432 -122.292       1310.000    7491.000   \n",
       "1001200050           NaN    98188 47.433 -122.292       1300.000    7732.000   \n",
       "\n",
       "                  date      price  \n",
       "house_id                           \n",
       "1000102     2014-09-16 280000.000  \n",
       "1000102     2015-04-22 300000.000  \n",
       "100100050   2014-11-12 275000.000  \n",
       "1001200035  2015-03-06 272450.000  \n",
       "1001200050  2014-09-23 259000.000  "
      ]
     },
     "execution_count": 181,
     "metadata": {},
     "output_type": "execute_result"
    }
   ],
   "source": [
    "df.drop('id_x', axis=1, inplace=True)\n",
    "df.drop('id_y', axis=1, inplace=True)\n",
    "df.set_index('house_id', inplace=True)\n",
    "df.head()"
   ]
  },
  {
   "cell_type": "markdown",
   "metadata": {},
   "source": [
    "### Change Data for Visibility"
   ]
  },
  {
   "cell_type": "markdown",
   "metadata": {},
   "source": [
    "changing bathrooms and bedrooms to int, changing the display option for 'floors' to 1 decimal \n",
    "remove 0 from yr_renovated, simply by dividing by 10"
   ]
  },
  {
   "cell_type": "code",
   "execution_count": 182,
   "metadata": {},
   "outputs": [
    {
     "data": {
      "text/html": [
       "<div>\n",
       "<style scoped>\n",
       "    .dataframe tbody tr th:only-of-type {\n",
       "        vertical-align: middle;\n",
       "    }\n",
       "\n",
       "    .dataframe tbody tr th {\n",
       "        vertical-align: top;\n",
       "    }\n",
       "\n",
       "    .dataframe thead th {\n",
       "        text-align: right;\n",
       "    }\n",
       "</style>\n",
       "<table border=\"1\" class=\"dataframe\">\n",
       "  <thead>\n",
       "    <tr style=\"text-align: right;\">\n",
       "      <th></th>\n",
       "      <th>bedrooms</th>\n",
       "      <th>bathrooms</th>\n",
       "      <th>sqft_living</th>\n",
       "      <th>sqft_lot</th>\n",
       "      <th>floors</th>\n",
       "      <th>waterfront</th>\n",
       "      <th>view</th>\n",
       "      <th>condition</th>\n",
       "      <th>grade</th>\n",
       "      <th>sqft_above</th>\n",
       "      <th>sqft_basement</th>\n",
       "      <th>yr_built</th>\n",
       "      <th>yr_renovated</th>\n",
       "      <th>zipcode</th>\n",
       "      <th>lat</th>\n",
       "      <th>long</th>\n",
       "      <th>sqft_living15</th>\n",
       "      <th>sqft_lot15</th>\n",
       "      <th>date</th>\n",
       "      <th>price</th>\n",
       "    </tr>\n",
       "    <tr>\n",
       "      <th>house_id</th>\n",
       "      <th></th>\n",
       "      <th></th>\n",
       "      <th></th>\n",
       "      <th></th>\n",
       "      <th></th>\n",
       "      <th></th>\n",
       "      <th></th>\n",
       "      <th></th>\n",
       "      <th></th>\n",
       "      <th></th>\n",
       "      <th></th>\n",
       "      <th></th>\n",
       "      <th></th>\n",
       "      <th></th>\n",
       "      <th></th>\n",
       "      <th></th>\n",
       "      <th></th>\n",
       "      <th></th>\n",
       "      <th></th>\n",
       "      <th></th>\n",
       "    </tr>\n",
       "  </thead>\n",
       "  <tbody>\n",
       "    <tr>\n",
       "      <th>1000102</th>\n",
       "      <td>6.000</td>\n",
       "      <td>3.000</td>\n",
       "      <td>2400.000</td>\n",
       "      <td>9373.000</td>\n",
       "      <td>2.000</td>\n",
       "      <td>NaN</td>\n",
       "      <td>0.000</td>\n",
       "      <td>3</td>\n",
       "      <td>7</td>\n",
       "      <td>2400.000</td>\n",
       "      <td>0.000</td>\n",
       "      <td>1991</td>\n",
       "      <td>0.000</td>\n",
       "      <td>98002</td>\n",
       "      <td>47.326</td>\n",
       "      <td>-122.214</td>\n",
       "      <td>2060.000</td>\n",
       "      <td>7316.000</td>\n",
       "      <td>2014-09-16</td>\n",
       "      <td>280000.000</td>\n",
       "    </tr>\n",
       "    <tr>\n",
       "      <th>1000102</th>\n",
       "      <td>6.000</td>\n",
       "      <td>3.000</td>\n",
       "      <td>2400.000</td>\n",
       "      <td>9373.000</td>\n",
       "      <td>2.000</td>\n",
       "      <td>NaN</td>\n",
       "      <td>0.000</td>\n",
       "      <td>3</td>\n",
       "      <td>7</td>\n",
       "      <td>2400.000</td>\n",
       "      <td>0.000</td>\n",
       "      <td>1991</td>\n",
       "      <td>0.000</td>\n",
       "      <td>98002</td>\n",
       "      <td>47.326</td>\n",
       "      <td>-122.214</td>\n",
       "      <td>2060.000</td>\n",
       "      <td>7316.000</td>\n",
       "      <td>2015-04-22</td>\n",
       "      <td>300000.000</td>\n",
       "    </tr>\n",
       "    <tr>\n",
       "      <th>100100050</th>\n",
       "      <td>3.000</td>\n",
       "      <td>1.000</td>\n",
       "      <td>1320.000</td>\n",
       "      <td>11090.000</td>\n",
       "      <td>1.000</td>\n",
       "      <td>0.000</td>\n",
       "      <td>0.000</td>\n",
       "      <td>3</td>\n",
       "      <td>7</td>\n",
       "      <td>1320.000</td>\n",
       "      <td>0.000</td>\n",
       "      <td>1955</td>\n",
       "      <td>0.000</td>\n",
       "      <td>98155</td>\n",
       "      <td>47.775</td>\n",
       "      <td>-122.304</td>\n",
       "      <td>1320.000</td>\n",
       "      <td>8319.000</td>\n",
       "      <td>2014-11-12</td>\n",
       "      <td>275000.000</td>\n",
       "    </tr>\n",
       "    <tr>\n",
       "      <th>1001200035</th>\n",
       "      <td>3.000</td>\n",
       "      <td>1.000</td>\n",
       "      <td>1350.000</td>\n",
       "      <td>7973.000</td>\n",
       "      <td>1.500</td>\n",
       "      <td>NaN</td>\n",
       "      <td>0.000</td>\n",
       "      <td>3</td>\n",
       "      <td>7</td>\n",
       "      <td>1350.000</td>\n",
       "      <td>0.000</td>\n",
       "      <td>1954</td>\n",
       "      <td>0.000</td>\n",
       "      <td>98188</td>\n",
       "      <td>47.432</td>\n",
       "      <td>-122.292</td>\n",
       "      <td>1310.000</td>\n",
       "      <td>7491.000</td>\n",
       "      <td>2015-03-06</td>\n",
       "      <td>272450.000</td>\n",
       "    </tr>\n",
       "    <tr>\n",
       "      <th>1001200050</th>\n",
       "      <td>4.000</td>\n",
       "      <td>1.500</td>\n",
       "      <td>1260.000</td>\n",
       "      <td>7248.000</td>\n",
       "      <td>1.500</td>\n",
       "      <td>NaN</td>\n",
       "      <td>0.000</td>\n",
       "      <td>5</td>\n",
       "      <td>7</td>\n",
       "      <td>1260.000</td>\n",
       "      <td>0.000</td>\n",
       "      <td>1955</td>\n",
       "      <td>NaN</td>\n",
       "      <td>98188</td>\n",
       "      <td>47.433</td>\n",
       "      <td>-122.292</td>\n",
       "      <td>1300.000</td>\n",
       "      <td>7732.000</td>\n",
       "      <td>2014-09-23</td>\n",
       "      <td>259000.000</td>\n",
       "    </tr>\n",
       "  </tbody>\n",
       "</table>\n",
       "</div>"
      ],
      "text/plain": [
       "            bedrooms  bathrooms  sqft_living  sqft_lot  floors  waterfront  \\\n",
       "house_id                                                                     \n",
       "1000102        6.000      3.000     2400.000  9373.000   2.000         NaN   \n",
       "1000102        6.000      3.000     2400.000  9373.000   2.000         NaN   \n",
       "100100050      3.000      1.000     1320.000 11090.000   1.000       0.000   \n",
       "1001200035     3.000      1.000     1350.000  7973.000   1.500         NaN   \n",
       "1001200050     4.000      1.500     1260.000  7248.000   1.500         NaN   \n",
       "\n",
       "            view  condition  grade  sqft_above  sqft_basement  yr_built  \\\n",
       "house_id                                                                  \n",
       "1000102    0.000          3      7    2400.000          0.000      1991   \n",
       "1000102    0.000          3      7    2400.000          0.000      1991   \n",
       "100100050  0.000          3      7    1320.000          0.000      1955   \n",
       "1001200035 0.000          3      7    1350.000          0.000      1954   \n",
       "1001200050 0.000          5      7    1260.000          0.000      1955   \n",
       "\n",
       "            yr_renovated  zipcode    lat     long  sqft_living15  sqft_lot15  \\\n",
       "house_id                                                                       \n",
       "1000102            0.000    98002 47.326 -122.214       2060.000    7316.000   \n",
       "1000102            0.000    98002 47.326 -122.214       2060.000    7316.000   \n",
       "100100050          0.000    98155 47.775 -122.304       1320.000    8319.000   \n",
       "1001200035         0.000    98188 47.432 -122.292       1310.000    7491.000   \n",
       "1001200050           NaN    98188 47.433 -122.292       1300.000    7732.000   \n",
       "\n",
       "                  date      price  \n",
       "house_id                           \n",
       "1000102     2014-09-16 280000.000  \n",
       "1000102     2015-04-22 300000.000  \n",
       "100100050   2014-11-12 275000.000  \n",
       "1001200035  2015-03-06 272450.000  \n",
       "1001200050  2014-09-23 259000.000  "
      ]
     },
     "execution_count": 182,
     "metadata": {},
     "output_type": "execute_result"
    }
   ],
   "source": [
    "#df[['bathrooms', 'bedrooms']] = df[['bathrooms', 'bedrooms']].astype(int)\n",
    "#df['floors'] = df['floors'].apply(lambda x: '{:.1f}'.format(x))\n",
    "df['yr_renovated'] = df['yr_renovated'] // 10\n",
    "df.head()"
   ]
  },
  {
   "cell_type": "markdown",
   "metadata": {},
   "source": [
    "### Checking NaN-Values"
   ]
  },
  {
   "cell_type": "code",
   "execution_count": 183,
   "metadata": {},
   "outputs": [
    {
     "data": {
      "text/plain": [
       "<Axes: >"
      ]
     },
     "execution_count": 183,
     "metadata": {},
     "output_type": "execute_result"
    },
    {
     "data": {
      "image/png": "[encoded data removed]",
      "text/plain": [
       "<Figure size 2500x1000 with 2 Axes>"
      ]
     },
     "metadata": {},
     "output_type": "display_data"
    }
   ],
   "source": [
    "msno.matrix(df)"
   ]
  },
  {
   "cell_type": "markdown",
   "metadata": {},
   "source": [
    "Checking how 'view' gets affected by 'waterfront'"
   ]
  },
  {
   "cell_type": "code",
   "execution_count": 184,
   "metadata": {},
   "outputs": [
    {
     "data": {
      "image/png": "[encoded data removed]",
      "text/plain": [
       "<Figure size 800x600 with 1 Axes>"
      ]
     },
     "metadata": {},
     "output_type": "display_data"
    }
   ],
   "source": [
    "# Violin plot\n",
    "plt.figure(figsize=(8, 6))\n",
    "sns.violinplot(x='waterfront', y='view', data=df)\n",
    "plt.title('View Distribution for Waterfront')\n",
    "plt.xlabel('Waterfront')\n",
    "plt.ylabel('View')\n",
    "plt.show()"
   ]
  },
  {
   "cell_type": "markdown",
   "metadata": {},
   "source": [
    "My Hypotithis is, that view only reaches 3+, if the House has a waterfront. Due to that, I will assign every NaN from waterfront a "
   ]
  },
  {
   "cell_type": "markdown",
   "metadata": {},
   "source": [
    "### Reducing NaN Values"
   ]
  },
  {
   "cell_type": "markdown",
   "metadata": {},
   "source": [
    "#### View"
   ]
  },
  {
   "cell_type": "markdown",
   "metadata": {},
   "source": [
    "If View is 4, set Waterfront to 1.\n",
    "If View is lower than 4, set Waterfront to 0 "
   ]
  },
  {
   "cell_type": "code",
   "execution_count": 185,
   "metadata": {},
   "outputs": [],
   "source": [
    "df.loc[(df['view'] == 4) & (df['waterfront'].isna()), 'waterfront'] = 1\n",
    "df.loc[(df['view'] < 4) & (df['waterfront'].isna()), 'waterfront'] = 0"
   ]
  },
  {
   "cell_type": "code",
   "execution_count": 186,
   "metadata": {},
   "outputs": [
    {
     "data": {
      "text/plain": [
       "<Axes: >"
      ]
     },
     "execution_count": 186,
     "metadata": {},
     "output_type": "execute_result"
    },
    {
     "data": {
      "image/png": "[encoded data removed]",
      "text/plain": [
       "<Figure size 2500x1000 with 2 Axes>"
      ]
     },
     "metadata": {},
     "output_type": "display_data"
    }
   ],
   "source": [
    "msno.matrix(df)"
   ]
  },
  {
   "cell_type": "markdown",
   "metadata": {},
   "source": [
    "Set View to 4 if Waterfront is 1\n",
    "Set View to 0 if Waterfront is 0"
   ]
  },
  {
   "cell_type": "code",
   "execution_count": 187,
   "metadata": {},
   "outputs": [],
   "source": [
    "df.loc[(df['waterfront'] == 1) & (df['view'].isna()), 'view'] = 4"
   ]
  },
  {
   "cell_type": "code",
   "execution_count": 188,
   "metadata": {},
   "outputs": [],
   "source": [
    "df.loc[(df['waterfront'] == 0) & (df['view'].isna()), 'view'] = 0"
   ]
  },
  {
   "cell_type": "code",
   "execution_count": 189,
   "metadata": {},
   "outputs": [
    {
     "data": {
      "text/html": [
       "<div>\n",
       "<style scoped>\n",
       "    .dataframe tbody tr th:only-of-type {\n",
       "        vertical-align: middle;\n",
       "    }\n",
       "\n",
       "    .dataframe tbody tr th {\n",
       "        vertical-align: top;\n",
       "    }\n",
       "\n",
       "    .dataframe thead th {\n",
       "        text-align: right;\n",
       "    }\n",
       "</style>\n",
       "<table border=\"1\" class=\"dataframe\">\n",
       "  <thead>\n",
       "    <tr style=\"text-align: right;\">\n",
       "      <th></th>\n",
       "      <th>bedrooms</th>\n",
       "      <th>bathrooms</th>\n",
       "      <th>sqft_living</th>\n",
       "      <th>sqft_lot</th>\n",
       "      <th>floors</th>\n",
       "      <th>waterfront</th>\n",
       "      <th>view</th>\n",
       "      <th>condition</th>\n",
       "      <th>grade</th>\n",
       "      <th>sqft_above</th>\n",
       "      <th>sqft_basement</th>\n",
       "      <th>yr_built</th>\n",
       "      <th>yr_renovated</th>\n",
       "      <th>zipcode</th>\n",
       "      <th>lat</th>\n",
       "      <th>long</th>\n",
       "      <th>sqft_living15</th>\n",
       "      <th>sqft_lot15</th>\n",
       "      <th>date</th>\n",
       "      <th>price</th>\n",
       "    </tr>\n",
       "    <tr>\n",
       "      <th>house_id</th>\n",
       "      <th></th>\n",
       "      <th></th>\n",
       "      <th></th>\n",
       "      <th></th>\n",
       "      <th></th>\n",
       "      <th></th>\n",
       "      <th></th>\n",
       "      <th></th>\n",
       "      <th></th>\n",
       "      <th></th>\n",
       "      <th></th>\n",
       "      <th></th>\n",
       "      <th></th>\n",
       "      <th></th>\n",
       "      <th></th>\n",
       "      <th></th>\n",
       "      <th></th>\n",
       "      <th></th>\n",
       "      <th></th>\n",
       "      <th></th>\n",
       "    </tr>\n",
       "  </thead>\n",
       "  <tbody>\n",
       "    <tr>\n",
       "      <th>2162000190</th>\n",
       "      <td>3.000</td>\n",
       "      <td>2.250</td>\n",
       "      <td>2120.000</td>\n",
       "      <td>13644.000</td>\n",
       "      <td>2.000</td>\n",
       "      <td>NaN</td>\n",
       "      <td>NaN</td>\n",
       "      <td>4</td>\n",
       "      <td>9</td>\n",
       "      <td>1420.000</td>\n",
       "      <td>700.000</td>\n",
       "      <td>1973</td>\n",
       "      <td>0.000</td>\n",
       "      <td>98040</td>\n",
       "      <td>47.557</td>\n",
       "      <td>-122.214</td>\n",
       "      <td>2950.000</td>\n",
       "      <td>17060.000</td>\n",
       "      <td>2014-12-15</td>\n",
       "      <td>693000.000</td>\n",
       "    </tr>\n",
       "    <tr>\n",
       "      <th>2338800161</th>\n",
       "      <td>2.000</td>\n",
       "      <td>1.000</td>\n",
       "      <td>1390.000</td>\n",
       "      <td>8336.000</td>\n",
       "      <td>1.000</td>\n",
       "      <td>NaN</td>\n",
       "      <td>NaN</td>\n",
       "      <td>4</td>\n",
       "      <td>6</td>\n",
       "      <td>910.000</td>\n",
       "      <td>480.000</td>\n",
       "      <td>1946</td>\n",
       "      <td>0.000</td>\n",
       "      <td>98166</td>\n",
       "      <td>47.465</td>\n",
       "      <td>-122.361</td>\n",
       "      <td>1610.000</td>\n",
       "      <td>7847.000</td>\n",
       "      <td>2015-01-06</td>\n",
       "      <td>365000.000</td>\n",
       "    </tr>\n",
       "    <tr>\n",
       "      <th>339200130</th>\n",
       "      <td>3.000</td>\n",
       "      <td>2.500</td>\n",
       "      <td>2460.000</td>\n",
       "      <td>12028.000</td>\n",
       "      <td>2.000</td>\n",
       "      <td>NaN</td>\n",
       "      <td>NaN</td>\n",
       "      <td>3</td>\n",
       "      <td>9</td>\n",
       "      <td>2460.000</td>\n",
       "      <td>0.000</td>\n",
       "      <td>1996</td>\n",
       "      <td>NaN</td>\n",
       "      <td>98052</td>\n",
       "      <td>47.691</td>\n",
       "      <td>-122.095</td>\n",
       "      <td>2540.000</td>\n",
       "      <td>12229.000</td>\n",
       "      <td>2014-05-31</td>\n",
       "      <td>693000.000</td>\n",
       "    </tr>\n",
       "    <tr>\n",
       "      <th>3423600060</th>\n",
       "      <td>4.000</td>\n",
       "      <td>1.750</td>\n",
       "      <td>2280.000</td>\n",
       "      <td>3680.000</td>\n",
       "      <td>1.500</td>\n",
       "      <td>NaN</td>\n",
       "      <td>NaN</td>\n",
       "      <td>5</td>\n",
       "      <td>7</td>\n",
       "      <td>1470.000</td>\n",
       "      <td>810.000</td>\n",
       "      <td>1926</td>\n",
       "      <td>0.000</td>\n",
       "      <td>98115</td>\n",
       "      <td>47.675</td>\n",
       "      <td>-122.300</td>\n",
       "      <td>1850.000</td>\n",
       "      <td>3680.000</td>\n",
       "      <td>2014-12-02</td>\n",
       "      <td>665000.000</td>\n",
       "    </tr>\n",
       "    <tr>\n",
       "      <th>5700003630</th>\n",
       "      <td>5.000</td>\n",
       "      <td>4.250</td>\n",
       "      <td>4830.000</td>\n",
       "      <td>8050.000</td>\n",
       "      <td>2.500</td>\n",
       "      <td>NaN</td>\n",
       "      <td>NaN</td>\n",
       "      <td>4</td>\n",
       "      <td>11</td>\n",
       "      <td>3710.000</td>\n",
       "      <td>1120.000</td>\n",
       "      <td>1914</td>\n",
       "      <td>0.000</td>\n",
       "      <td>98144</td>\n",
       "      <td>47.579</td>\n",
       "      <td>-122.286</td>\n",
       "      <td>4470.000</td>\n",
       "      <td>9194.000</td>\n",
       "      <td>2014-06-30</td>\n",
       "      <td>1930000.000</td>\n",
       "    </tr>\n",
       "    <tr>\n",
       "      <th>6669240230</th>\n",
       "      <td>3.000</td>\n",
       "      <td>2.500</td>\n",
       "      <td>2588.000</td>\n",
       "      <td>5702.000</td>\n",
       "      <td>2.000</td>\n",
       "      <td>NaN</td>\n",
       "      <td>NaN</td>\n",
       "      <td>3</td>\n",
       "      <td>8</td>\n",
       "      <td>2588.000</td>\n",
       "      <td>0.000</td>\n",
       "      <td>2008</td>\n",
       "      <td>NaN</td>\n",
       "      <td>98042</td>\n",
       "      <td>47.345</td>\n",
       "      <td>-122.151</td>\n",
       "      <td>2403.000</td>\n",
       "      <td>5703.000</td>\n",
       "      <td>2015-03-17</td>\n",
       "      <td>306000.000</td>\n",
       "    </tr>\n",
       "  </tbody>\n",
       "</table>\n",
       "</div>"
      ],
      "text/plain": [
       "            bedrooms  bathrooms  sqft_living  sqft_lot  floors  waterfront  \\\n",
       "house_id                                                                     \n",
       "2162000190     3.000      2.250     2120.000 13644.000   2.000         NaN   \n",
       "2338800161     2.000      1.000     1390.000  8336.000   1.000         NaN   \n",
       "339200130      3.000      2.500     2460.000 12028.000   2.000         NaN   \n",
       "3423600060     4.000      1.750     2280.000  3680.000   1.500         NaN   \n",
       "5700003630     5.000      4.250     4830.000  8050.000   2.500         NaN   \n",
       "6669240230     3.000      2.500     2588.000  5702.000   2.000         NaN   \n",
       "\n",
       "            view  condition  grade  sqft_above  sqft_basement  yr_built  \\\n",
       "house_id                                                                  \n",
       "2162000190   NaN          4      9    1420.000        700.000      1973   \n",
       "2338800161   NaN          4      6     910.000        480.000      1946   \n",
       "339200130    NaN          3      9    2460.000          0.000      1996   \n",
       "3423600060   NaN          5      7    1470.000        810.000      1926   \n",
       "5700003630   NaN          4     11    3710.000       1120.000      1914   \n",
       "6669240230   NaN          3      8    2588.000          0.000      2008   \n",
       "\n",
       "            yr_renovated  zipcode    lat     long  sqft_living15  sqft_lot15  \\\n",
       "house_id                                                                       \n",
       "2162000190         0.000    98040 47.557 -122.214       2950.000   17060.000   \n",
       "2338800161         0.000    98166 47.465 -122.361       1610.000    7847.000   \n",
       "339200130            NaN    98052 47.691 -122.095       2540.000   12229.000   \n",
       "3423600060         0.000    98115 47.675 -122.300       1850.000    3680.000   \n",
       "5700003630         0.000    98144 47.579 -122.286       4470.000    9194.000   \n",
       "6669240230           NaN    98042 47.345 -122.151       2403.000    5703.000   \n",
       "\n",
       "                  date       price  \n",
       "house_id                            \n",
       "2162000190  2014-12-15  693000.000  \n",
       "2338800161  2015-01-06  365000.000  \n",
       "339200130   2014-05-31  693000.000  \n",
       "3423600060  2014-12-02  665000.000  \n",
       "5700003630  2014-06-30 1930000.000  \n",
       "6669240230  2015-03-17  306000.000  "
      ]
     },
     "execution_count": 189,
     "metadata": {},
     "output_type": "execute_result"
    }
   ],
   "source": [
    "df[df['view'].isna()]"
   ]
  },
  {
   "cell_type": "markdown",
   "metadata": {},
   "source": [
    "For these 6 Entries, I manually set the value, by checking Google Maps "
   ]
  },
  {
   "cell_type": "code",
   "execution_count": 190,
   "metadata": {},
   "outputs": [],
   "source": [
    "# Update 'view' and 'waterfront' for specified house_ids\n",
    "house_ids_to_update = [339200130, 3423600060, 6669240230]\n",
    "df.loc[house_ids_to_update, 'view'] = 2\n",
    "df.loc[house_ids_to_update, 'waterfront'] = 0"
   ]
  },
  {
   "cell_type": "code",
   "execution_count": 191,
   "metadata": {},
   "outputs": [],
   "source": [
    "# Update 'view' and 'waterfront' for specified house_ids\n",
    "house_ids_to_update = [2162000190, 2338800161, 5700003630]\n",
    "df.loc[house_ids_to_update, 'view'] = 4\n",
    "df.loc[house_ids_to_update, 'waterfront'] = 1"
   ]
  },
  {
   "cell_type": "markdown",
   "metadata": {},
   "source": [
    "#### Year Renovated"
   ]
  },
  {
   "cell_type": "markdown",
   "metadata": {},
   "source": [
    "Checking Correlation between Year Build vs Year renovated"
   ]
  },
  {
   "cell_type": "code",
   "execution_count": 192,
   "metadata": {},
   "outputs": [
    {
     "data": {
      "image/png": "[encoded data removed]",
      "text/plain": [
       "<Figure size 1000x600 with 1 Axes>"
      ]
     },
     "metadata": {},
     "output_type": "display_data"
    }
   ],
   "source": [
    "# Preprocess data to mark if a building was renovated\n",
    "df['renovated'] = df['yr_renovated'].apply(lambda x: 0 if pd.isna(x) or x == 0 else 1)\n",
    "\n",
    "# Plotting\n",
    "plt.figure(figsize=(10, 6))\n",
    "sns.scatterplot(data=df, x='yr_built', y='yr_renovated', hue='renovated', palette='viridis', legend='full')\n",
    "plt.xlabel('Year Built')\n",
    "plt.ylabel('Year Renovated')\n",
    "plt.title('Year Built vs Year Renovated')\n",
    "plt.grid(True)\n",
    "\n",
    "# Adjust y-axis scale\n",
    "plt.ylim(max(df['yr_renovated']), min(df['yr_renovated']) - 5)  # Set y-axis limits\n",
    "plt.ylim(2020, 1930)  # Set y-axis limits\n",
    "\n",
    "# Adjust x-axis scale\n",
    "plt.xticks(range(int(min(df['yr_built'])), int(max(df['yr_built'])) + 1, 10))  # Set x-axis ticks every 10 years\n",
    "\n",
    "plt.show()"
   ]
  },
  {
   "cell_type": "markdown",
   "metadata": {},
   "source": [
    "## Gathering Data for Client"
   ]
  },
  {
   "cell_type": "markdown",
   "metadata": {},
   "source": [
    "Nicole Johnson | Buyer | Lively, central neighborhood, middle price range, right timing (within a year)"
   ]
  },
  {
   "cell_type": "markdown",
   "metadata": {},
   "source": [
    "Grade = 7 or Higher\n",
    "Price = around 450000\n",
    "Timing = When House-Prices are lower\n",
    "central Neighborhood\n"
   ]
  },
  {
   "cell_type": "code",
   "execution_count": 193,
   "metadata": {},
   "outputs": [
    {
     "data": {
      "text/plain": [
       "450000.0"
      ]
     },
     "execution_count": 193,
     "metadata": {},
     "output_type": "execute_result"
    }
   ],
   "source": [
    "df['price'].median()"
   ]
  },
  {
   "cell_type": "markdown",
   "metadata": {},
   "source": [
    "* Define Boundaries for lively neighborhoods and create Column that states if in one or 'Else', if not.\n",
    "* create 2 plots, one for all entries in map and one for all entries in filtered neighborhood."
   ]
  },
  {
   "cell_type": "code",
   "execution_count": 194,
   "metadata": {},
   "outputs": [],
   "source": [
    "from data.secret import API\n",
    "from gmplot import gmplot\n",
    "\n",
    "# Define lively neighborhoods boundaries\n",
    "lively_neighborhoods_boundaries = {\n",
    "    'Downtown': {'lat_min': 47.601, 'lat_max': 47.615, 'lon_min': -122.340, 'lon_max': -122.320},\n",
    "    'Capitol Hill': {'lat_min': 47.620, 'lat_max': 47.640, 'lon_min': -122.330, 'lon_max': -122.300},\n",
    "    'Belltown': {'lat_min': 47.610, 'lat_max': 47.620, 'lon_min': -122.350, 'lon_max': -122.330},\n",
    "    'First Hill': {'lat_min': 47.605, 'lat_max': 47.620, 'lon_min': -122.330, 'lon_max': -122.310},\n",
    "    'South Lake Union': {'lat_min': 47.625, 'lat_max': 47.645, 'lon_min': -122.350, 'lon_max': -122.320},\n",
    "    'Pioneer Square': {'lat_min': 47.595, 'lat_max': 47.605, 'lon_min': -122.340, 'lon_max': -122.325},\n",
    "    'Ballard': {'lat_min': 47.665, 'lat_max': 47.685, 'lon_min': -122.390, 'lon_max': -122.370},\n",
    "    'Fremont': {'lat_min': 47.645, 'lat_max': 47.665, 'lon_min': -122.360, 'lon_max': -122.340},\n",
    "    'Queen Anne': {'lat_min': 47.625, 'lat_max': 47.645, 'lon_min': -122.370, 'lon_max': -122.350},\n",
    "    'University District': {'lat_min': 47.655, 'lat_max': 47.675, 'lon_min': -122.320, 'lon_max': -122.300}\n",
    "}\n",
    "\n",
    "# Function to determine the lively neighborhood based on latitude and longitude\n",
    "def get_lively_neighborhood(lat, lon):\n",
    "    for neighborhood, bounds in lively_neighborhoods_boundaries.items():\n",
    "        if bounds['lat_min'] <= lat <= bounds['lat_max'] and bounds['lon_min'] <= lon <= bounds['lon_max']:\n",
    "            return neighborhood\n",
    "    return 'Else'\n",
    "\n",
    "# Apply the function to create the 'live_nh' column\n",
    "df['live_nh'] = df.apply(lambda row: get_lively_neighborhood(row['lat'], row['long']), axis=1)\n",
    "\n",
    "\n",
    "# Initialize the map centered around the mean latitude and longitude\n",
    "gmap_all = gmplot.GoogleMapPlotter(df['lat'].mean(), df['long'].mean(), 10, apikey= API)\n",
    "\n",
    "# Plot all entrances\n",
    "gmap_all.scatter(df['lat'], df['long'], '#FF0000', size=40, marker=True)\n",
    "\n",
    "# Draw the map to an HTML file\n",
    "gmap_all.draw(\"presentation/html/all_entries_map.html\")\n",
    "\n",
    "\n",
    "# Filter entrances within Queen Anne, Fremont, Ballard\n",
    "filtered_df = df[df['live_nh'] != 'Else']\n",
    "\n",
    "# Initialize the map centered around the mean latitude and longitude\n",
    "gmap_lively = gmplot.GoogleMapPlotter(filtered_df['lat'].mean(), filtered_df['long'].mean(), 10, apikey= API)\n",
    "\n",
    "# Plot entrances in lively neighborhoods\n",
    "gmap_lively.scatter(filtered_df['lat'], filtered_df['long'], '#00FF00', size=40, marker=True)\n",
    "\n",
    "# Draw the map to an HTML file\n",
    "gmap_lively.draw(\"presentation/html/filtered_for_lively_neighborhoods_map.html\")\n",
    "\n"
   ]
  },
  {
   "cell_type": "markdown",
   "metadata": {},
   "source": [
    "* Create Chart that filters for Average House Prices per Month where Grade is 7 or higher\n",
    "* Create Chart that filters for Average number of Houses sold per Month where Grade is 7 or higher"
   ]
  },
  {
   "cell_type": "code",
   "execution_count": 195,
   "metadata": {},
   "outputs": [
    {
     "name": "stdout",
     "output_type": "stream",
     "text": [
      "The month with the lowest average prices for houses around $450,000 is: 2\n",
      "The average number of houses sold in this month per year is: 2\n"
     ]
    },
    {
     "data": {
      "image/png": "[encoded data removed]",
      "text/plain": [
       "<Figure size 1400x700 with 2 Axes>"
      ]
     },
     "metadata": {},
     "output_type": "display_data"
    }
   ],
   "source": [
    "# Convert 'date' column to datetime\n",
    "df['date'] = pd.to_datetime(df['date'])\n",
    "df['month'] = df['date'].dt.month\n",
    "\n",
    "# Define price range\n",
    "price_min = 425000\n",
    "price_max = 475000\n",
    "\n",
    "# Filter the dataset for houses around $450,000 and with grade 7 or higher\n",
    "filtered_df = df[(df['price'] >= price_min) & (df['price'] <= price_max) & (df['grade'] >= 7) & (df['live_nh'] != 'Else')]\n",
    "\n",
    "# Group by month to find the average price and average number of houses sold for filtered data\n",
    "monthly_avg_price_filtered = filtered_df.groupby('month')['price'].mean()\n",
    "monthly_houses_sold_filtered = filtered_df.groupby('month').size()\n",
    "\n",
    "# Find the month with the lowest average price for filtered data\n",
    "lowest_avg_price_month_filtered = monthly_avg_price_filtered.idxmin()\n",
    "\n",
    "print(f\"The month with the lowest average prices for houses around $450,000 is: {lowest_avg_price_month_filtered}\")\n",
    "print(f\"The average number of houses sold in this month per year is: {monthly_houses_sold_filtered[lowest_avg_price_month_filtered]}\")\n",
    "\n",
    "# Plot average prices and number of houses sold per month for filtered data\n",
    "plt.figure(figsize=(14, 7))\n",
    "\n",
    "# Plot average house prices for filtered data\n",
    "plt.subplot(2, 1, 1)\n",
    "plt.plot(monthly_avg_price_filtered.index, monthly_avg_price_filtered.values, marker='o', linestyle='-', color='b')\n",
    "plt.axvline(x=lowest_avg_price_month_filtered, color='r', linestyle='--', label='Best Month to Buy')\n",
    "plt.title('Average House Prices per Month for Houses Around $450,000')\n",
    "plt.xlabel('Month')\n",
    "plt.ylabel('Average Price')\n",
    "plt.xticks(range(1, 13))\n",
    "plt.legend()\n",
    "plt.grid(True)\n",
    "\n",
    "# Plot average number of houses sold for filtered data\n",
    "plt.subplot(2, 1, 2)\n",
    "plt.plot(monthly_houses_sold_filtered.index, monthly_houses_sold_filtered.values, marker='o', linestyle='-', color='g')\n",
    "plt.axvline(x=lowest_avg_price_month_filtered, color='r', linestyle='--', label='Best Month to Buy')\n",
    "plt.title('Average Number of Houses Sold per Month for Houses Around $450,000')\n",
    "plt.xlabel('Month')\n",
    "plt.ylabel('Number of Houses Sold')\n",
    "plt.xticks(range(1, 13))\n",
    "plt.legend()\n",
    "plt.grid(True)\n",
    "\n",
    "plt.tight_layout()\n",
    "\n",
    "# Save the plot as a PNG file\n",
    "plt.savefig(\"presentation/pictures/avg_price_houses_sold_per_month.png\")\n",
    "\n",
    "# Display the plot\n",
    "plt.show()\n"
   ]
  },
  {
   "cell_type": "markdown",
   "metadata": {},
   "source": [
    "* Create interactible Chart that filters for Average House Prices per Month where Grade is 7 or higher\n",
    "* Create interactible Chart that filters for Average number of Houses sold per Month where Grade is 7 or higher"
   ]
  },
  {
   "cell_type": "code",
   "execution_count": 196,
   "metadata": {},
   "outputs": [
    {
     "name": "stdout",
     "output_type": "stream",
     "text": [
      "The month with the lowest average prices for houses around $450,000 is: 2\n",
      "The average number of houses sold in this month per year is: 2\n"
     ]
    },
    {
     "data": {
      "application/vnd.plotly.v1+json": {
       "config": {
        "plotlyServerURL": "https://plot.ly"
       },
       "data": [
        {
         "hovertemplate": "Date Sold=%{x}<br>Price Sold=%{y}<extra></extra>",
         "legendgroup": "",
         "marker": {
          "color": "#636efa",
          "opacity": 0.6,
          "size": 8,
          "symbol": "circle"
         },
         "mode": "markers",
         "name": "",
         "orientation": "v",
         "showlegend": false,
         "type": "scatter",
         "x": [
          "2014-07-10T00:00:00",
          "2014-06-05T00:00:00",
          "2014-05-09T00:00:00",
          "2014-11-14T00:00:00",
          "2014-06-08T00:00:00",
          "2015-04-16T00:00:00",
          "2014-07-17T00:00:00",
          "2014-10-07T00:00:00",
          "2014-05-07T00:00:00",
          "2015-04-15T00:00:00",
          "2014-05-28T00:00:00",
          "2014-05-21T00:00:00",
          "2014-08-01T00:00:00",
          "2014-12-03T00:00:00",
          "2014-07-01T00:00:00",
          "2014-10-24T00:00:00",
          "2015-05-06T00:00:00",
          "2014-08-04T00:00:00",
          "2014-09-15T00:00:00",
          "2014-08-18T00:00:00",
          "2015-04-14T00:00:00",
          "2014-08-22T00:00:00",
          "2014-10-29T00:00:00",
          "2014-07-11T00:00:00",
          "2014-06-03T00:00:00",
          "2014-09-19T00:00:00",
          "2015-01-16T00:00:00",
          "2014-06-09T00:00:00",
          "2014-09-30T00:00:00",
          "2014-05-20T00:00:00",
          "2014-09-29T00:00:00",
          "2014-10-20T00:00:00",
          "2014-09-19T00:00:00",
          "2014-10-01T00:00:00",
          "2014-12-04T00:00:00",
          "2014-10-01T00:00:00",
          "2014-09-24T00:00:00",
          "2014-10-27T00:00:00",
          "2014-08-29T00:00:00",
          "2014-06-16T00:00:00",
          "2014-10-24T00:00:00",
          "2014-06-28T00:00:00",
          "2014-12-02T00:00:00",
          "2014-08-22T00:00:00",
          "2014-09-17T00:00:00",
          "2014-08-01T00:00:00",
          "2014-11-04T00:00:00",
          "2014-12-17T00:00:00",
          "2014-06-11T00:00:00",
          "2015-05-11T00:00:00",
          "2014-08-22T00:00:00",
          "2014-07-08T00:00:00",
          "2014-06-19T00:00:00",
          "2014-09-16T00:00:00",
          "2015-02-16T00:00:00",
          "2015-02-10T00:00:00",
          "2014-06-17T00:00:00",
          "2014-10-17T00:00:00",
          "2014-07-01T00:00:00",
          "2014-05-19T00:00:00",
          "2015-03-25T00:00:00",
          "2015-01-26T00:00:00",
          "2014-08-06T00:00:00",
          "2014-06-30T00:00:00",
          "2014-10-15T00:00:00",
          "2014-06-30T00:00:00",
          "2014-12-19T00:00:00",
          "2014-10-08T00:00:00",
          "2014-11-13T00:00:00",
          "2014-05-23T00:00:00",
          "2014-08-11T00:00:00",
          "2014-07-28T00:00:00",
          "2014-10-24T00:00:00",
          "2014-08-26T00:00:00",
          "2014-06-04T00:00:00",
          "2014-06-10T00:00:00",
          "2014-07-11T00:00:00",
          "2014-09-30T00:00:00"
         ],
         "xaxis": "x",
         "y": [
          445000,
          466500,
          460000,
          460000,
          455000,
          475000,
          440000,
          459000,
          425000,
          465000,
          474800,
          475000,
          435000,
          474000,
          460000,
          445000,
          475000,
          475000,
          459000,
          469000,
          462550,
          437500,
          452000,
          467000,
          425000,
          437500,
          440000,
          435000,
          469000,
          467000,
          425000,
          470000,
          436000,
          440000,
          439950,
          439000,
          425000,
          440000,
          461100,
          468500,
          475000,
          470000,
          450000,
          455000,
          470000,
          437000,
          457500,
          430000,
          427000,
          438600,
          443600,
          427550,
          475000,
          425000,
          425000,
          425000,
          473000,
          469000,
          459500,
          475000,
          471000,
          432000,
          450000,
          441000,
          473000,
          427500,
          430000,
          450000,
          471000,
          462000,
          475000,
          464950,
          465000,
          440000,
          455000,
          440000,
          475000,
          462500
         ],
         "yaxis": "y"
        }
       ],
       "layout": {
        "legend": {
         "tracegroupgap": 0
        },
        "template": {
         "data": {
          "bar": [
           {
            "error_x": {
             "color": "#2a3f5f"
            },
            "error_y": {
             "color": "#2a3f5f"
            },
            "marker": {
             "line": {
              "color": "#E5ECF6",
              "width": 0.5
             },
             "pattern": {
              "fillmode": "overlay",
              "size": 10,
              "solidity": 0.2
             }
            },
            "type": "bar"
           }
          ],
          "barpolar": [
           {
            "marker": {
             "line": {
              "color": "#E5ECF6",
              "width": 0.5
             },
             "pattern": {
              "fillmode": "overlay",
              "size": 10,
              "solidity": 0.2
             }
            },
            "type": "barpolar"
           }
          ],
          "carpet": [
           {
            "aaxis": {
             "endlinecolor": "#2a3f5f",
             "gridcolor": "white",
             "linecolor": "white",
             "minorgridcolor": "white",
             "startlinecolor": "#2a3f5f"
            },
            "baxis": {
             "endlinecolor": "#2a3f5f",
             "gridcolor": "white",
             "linecolor": "white",
             "minorgridcolor": "white",
             "startlinecolor": "#2a3f5f"
            },
            "type": "carpet"
           }
          ],
          "choropleth": [
           {
            "colorbar": {
             "outlinewidth": 0,
             "ticks": ""
            },
            "type": "choropleth"
           }
          ],
          "contour": [
           {
            "colorbar": {
             "outlinewidth": 0,
             "ticks": ""
            },
            "colorscale": [
             [
              0,
              "#0d0887"
             ],
             [
              0.1111111111111111,
              "#46039f"
             ],
             [
              0.2222222222222222,
              "#7201a8"
             ],
             [
              0.3333333333333333,
              "#9c179e"
             ],
             [
              0.4444444444444444,
              "#bd3786"
             ],
             [
              0.5555555555555556,
              "#d8576b"
             ],
             [
              0.6666666666666666,
              "#ed7953"
             ],
             [
              0.7777777777777778,
              "#fb9f3a"
             ],
             [
              0.8888888888888888,
              "#fdca26"
             ],
             [
              1,
              "#f0f921"
             ]
            ],
            "type": "contour"
           }
          ],
          "contourcarpet": [
           {
            "colorbar": {
             "outlinewidth": 0,
             "ticks": ""
            },
            "type": "contourcarpet"
           }
          ],
          "heatmap": [
           {
            "colorbar": {
             "outlinewidth": 0,
             "ticks": ""
            },
            "colorscale": [
             [
              0,
              "#0d0887"
             ],
             [
              0.1111111111111111,
              "#46039f"
             ],
             [
              0.2222222222222222,
              "#7201a8"
             ],
             [
              0.3333333333333333,
              "#9c179e"
             ],
             [
              0.4444444444444444,
              "#bd3786"
             ],
             [
              0.5555555555555556,
              "#d8576b"
             ],
             [
              0.6666666666666666,
              "#ed7953"
             ],
             [
              0.7777777777777778,
              "#fb9f3a"
             ],
             [
              0.8888888888888888,
              "#fdca26"
             ],
             [
              1,
              "#f0f921"
             ]
            ],
            "type": "heatmap"
           }
          ],
          "heatmapgl": [
           {
            "colorbar": {
             "outlinewidth": 0,
             "ticks": ""
            },
            "colorscale": [
             [
              0,
              "#0d0887"
             ],
             [
              0.1111111111111111,
              "#46039f"
             ],
             [
              0.2222222222222222,
              "#7201a8"
             ],
             [
              0.3333333333333333,
              "#9c179e"
             ],
             [
              0.4444444444444444,
              "#bd3786"
             ],
             [
              0.5555555555555556,
              "#d8576b"
             ],
             [
              0.6666666666666666,
              "#ed7953"
             ],
             [
              0.7777777777777778,
              "#fb9f3a"
             ],
             [
              0.8888888888888888,
              "#fdca26"
             ],
             [
              1,
              "#f0f921"
             ]
            ],
            "type": "heatmapgl"
           }
          ],
          "histogram": [
           {
            "marker": {
             "pattern": {
              "fillmode": "overlay",
              "size": 10,
              "solidity": 0.2
             }
            },
            "type": "histogram"
           }
          ],
          "histogram2d": [
           {
            "colorbar": {
             "outlinewidth": 0,
             "ticks": ""
            },
            "colorscale": [
             [
              0,
              "#0d0887"
             ],
             [
              0.1111111111111111,
              "#46039f"
             ],
             [
              0.2222222222222222,
              "#7201a8"
             ],
             [
              0.3333333333333333,
              "#9c179e"
             ],
             [
              0.4444444444444444,
              "#bd3786"
             ],
             [
              0.5555555555555556,
              "#d8576b"
             ],
             [
              0.6666666666666666,
              "#ed7953"
             ],
             [
              0.7777777777777778,
              "#fb9f3a"
             ],
             [
              0.8888888888888888,
              "#fdca26"
             ],
             [
              1,
              "#f0f921"
             ]
            ],
            "type": "histogram2d"
           }
          ],
          "histogram2dcontour": [
           {
            "colorbar": {
             "outlinewidth": 0,
             "ticks": ""
            },
            "colorscale": [
             [
              0,
              "#0d0887"
             ],
             [
              0.1111111111111111,
              "#46039f"
             ],
             [
              0.2222222222222222,
              "#7201a8"
             ],
             [
              0.3333333333333333,
              "#9c179e"
             ],
             [
              0.4444444444444444,
              "#bd3786"
             ],
             [
              0.5555555555555556,
              "#d8576b"
             ],
             [
              0.6666666666666666,
              "#ed7953"
             ],
             [
              0.7777777777777778,
              "#fb9f3a"
             ],
             [
              0.8888888888888888,
              "#fdca26"
             ],
             [
              1,
              "#f0f921"
             ]
            ],
            "type": "histogram2dcontour"
           }
          ],
          "mesh3d": [
           {
            "colorbar": {
             "outlinewidth": 0,
             "ticks": ""
            },
            "type": "mesh3d"
           }
          ],
          "parcoords": [
           {
            "line": {
             "colorbar": {
              "outlinewidth": 0,
              "ticks": ""
             }
            },
            "type": "parcoords"
           }
          ],
          "pie": [
           {
            "automargin": true,
            "type": "pie"
           }
          ],
          "scatter": [
           {
            "fillpattern": {
             "fillmode": "overlay",
             "size": 10,
             "solidity": 0.2
            },
            "type": "scatter"
           }
          ],
          "scatter3d": [
           {
            "line": {
             "colorbar": {
              "outlinewidth": 0,
              "ticks": ""
             }
            },
            "marker": {
             "colorbar": {
              "outlinewidth": 0,
              "ticks": ""
             }
            },
            "type": "scatter3d"
           }
          ],
          "scattercarpet": [
           {
            "marker": {
             "colorbar": {
              "outlinewidth": 0,
              "ticks": ""
             }
            },
            "type": "scattercarpet"
           }
          ],
          "scattergeo": [
           {
            "marker": {
             "colorbar": {
              "outlinewidth": 0,
              "ticks": ""
             }
            },
            "type": "scattergeo"
           }
          ],
          "scattergl": [
           {
            "marker": {
             "colorbar": {
              "outlinewidth": 0,
              "ticks": ""
             }
            },
            "type": "scattergl"
           }
          ],
          "scattermapbox": [
           {
            "marker": {
             "colorbar": {
              "outlinewidth": 0,
              "ticks": ""
             }
            },
            "type": "scattermapbox"
           }
          ],
          "scatterpolar": [
           {
            "marker": {
             "colorbar": {
              "outlinewidth": 0,
              "ticks": ""
             }
            },
            "type": "scatterpolar"
           }
          ],
          "scatterpolargl": [
           {
            "marker": {
             "colorbar": {
              "outlinewidth": 0,
              "ticks": ""
             }
            },
            "type": "scatterpolargl"
           }
          ],
          "scatterternary": [
           {
            "marker": {
             "colorbar": {
              "outlinewidth": 0,
              "ticks": ""
             }
            },
            "type": "scatterternary"
           }
          ],
          "surface": [
           {
            "colorbar": {
             "outlinewidth": 0,
             "ticks": ""
            },
            "colorscale": [
             [
              0,
              "#0d0887"
             ],
             [
              0.1111111111111111,
              "#46039f"
             ],
             [
              0.2222222222222222,
              "#7201a8"
             ],
             [
              0.3333333333333333,
              "#9c179e"
             ],
             [
              0.4444444444444444,
              "#bd3786"
             ],
             [
              0.5555555555555556,
              "#d8576b"
             ],
             [
              0.6666666666666666,
              "#ed7953"
             ],
             [
              0.7777777777777778,
              "#fb9f3a"
             ],
             [
              0.8888888888888888,
              "#fdca26"
             ],
             [
              1,
              "#f0f921"
             ]
            ],
            "type": "surface"
           }
          ],
          "table": [
           {
            "cells": {
             "fill": {
              "color": "#EBF0F8"
             },
             "line": {
              "color": "white"
             }
            },
            "header": {
             "fill": {
              "color": "#C8D4E3"
             },
             "line": {
              "color": "white"
             }
            },
            "type": "table"
           }
          ]
         },
         "layout": {
          "annotationdefaults": {
           "arrowcolor": "#2a3f5f",
           "arrowhead": 0,
           "arrowwidth": 1
          },
          "autotypenumbers": "strict",
          "coloraxis": {
           "colorbar": {
            "outlinewidth": 0,
            "ticks": ""
           }
          },
          "colorscale": {
           "diverging": [
            [
             0,
             "#8e0152"
            ],
            [
             0.1,
             "#c51b7d"
            ],
            [
             0.2,
             "#de77ae"
            ],
            [
             0.3,
             "#f1b6da"
            ],
            [
             0.4,
             "#fde0ef"
            ],
            [
             0.5,
             "#f7f7f7"
            ],
            [
             0.6,
             "#e6f5d0"
            ],
            [
             0.7,
             "#b8e186"
            ],
            [
             0.8,
             "#7fbc41"
            ],
            [
             0.9,
             "#4d9221"
            ],
            [
             1,
             "#276419"
            ]
           ],
           "sequential": [
            [
             0,
             "#0d0887"
            ],
            [
             0.1111111111111111,
             "#46039f"
            ],
            [
             0.2222222222222222,
             "#7201a8"
            ],
            [
             0.3333333333333333,
             "#9c179e"
            ],
            [
             0.4444444444444444,
             "#bd3786"
            ],
            [
             0.5555555555555556,
             "#d8576b"
            ],
            [
             0.6666666666666666,
             "#ed7953"
            ],
            [
             0.7777777777777778,
             "#fb9f3a"
            ],
            [
             0.8888888888888888,
             "#fdca26"
            ],
            [
             1,
             "#f0f921"
            ]
           ],
           "sequentialminus": [
            [
             0,
             "#0d0887"
            ],
            [
             0.1111111111111111,
             "#46039f"
            ],
            [
             0.2222222222222222,
             "#7201a8"
            ],
            [
             0.3333333333333333,
             "#9c179e"
            ],
            [
             0.4444444444444444,
             "#bd3786"
            ],
            [
             0.5555555555555556,
             "#d8576b"
            ],
            [
             0.6666666666666666,
             "#ed7953"
            ],
            [
             0.7777777777777778,
             "#fb9f3a"
            ],
            [
             0.8888888888888888,
             "#fdca26"
            ],
            [
             1,
             "#f0f921"
            ]
           ]
          },
          "colorway": [
           "#636efa",
           "#EF553B",
           "#00cc96",
           "#ab63fa",
           "#FFA15A",
           "#19d3f3",
           "#FF6692",
           "#B6E880",
           "#FF97FF",
           "#FECB52"
          ],
          "font": {
           "color": "#2a3f5f"
          },
          "geo": {
           "bgcolor": "white",
           "lakecolor": "white",
           "landcolor": "#E5ECF6",
           "showlakes": true,
           "showland": true,
           "subunitcolor": "white"
          },
          "hoverlabel": {
           "align": "left"
          },
          "hovermode": "closest",
          "mapbox": {
           "style": "light"
          },
          "paper_bgcolor": "white",
          "plot_bgcolor": "#E5ECF6",
          "polar": {
           "angularaxis": {
            "gridcolor": "white",
            "linecolor": "white",
            "ticks": ""
           },
           "bgcolor": "#E5ECF6",
           "radialaxis": {
            "gridcolor": "white",
            "linecolor": "white",
            "ticks": ""
           }
          },
          "scene": {
           "xaxis": {
            "backgroundcolor": "#E5ECF6",
            "gridcolor": "white",
            "gridwidth": 2,
            "linecolor": "white",
            "showbackground": true,
            "ticks": "",
            "zerolinecolor": "white"
           },
           "yaxis": {
            "backgroundcolor": "#E5ECF6",
            "gridcolor": "white",
            "gridwidth": 2,
            "linecolor": "white",
            "showbackground": true,
            "ticks": "",
            "zerolinecolor": "white"
           },
           "zaxis": {
            "backgroundcolor": "#E5ECF6",
            "gridcolor": "white",
            "gridwidth": 2,
            "linecolor": "white",
            "showbackground": true,
            "ticks": "",
            "zerolinecolor": "white"
           }
          },
          "shapedefaults": {
           "line": {
            "color": "#2a3f5f"
           }
          },
          "ternary": {
           "aaxis": {
            "gridcolor": "white",
            "linecolor": "white",
            "ticks": ""
           },
           "baxis": {
            "gridcolor": "white",
            "linecolor": "white",
            "ticks": ""
           },
           "bgcolor": "#E5ECF6",
           "caxis": {
            "gridcolor": "white",
            "linecolor": "white",
            "ticks": ""
           }
          },
          "title": {
           "x": 0.05
          },
          "xaxis": {
           "automargin": true,
           "gridcolor": "white",
           "linecolor": "white",
           "ticks": "",
           "title": {
            "standoff": 15
           },
           "zerolinecolor": "white",
           "zerolinewidth": 2
          },
          "yaxis": {
           "automargin": true,
           "gridcolor": "white",
           "linecolor": "white",
           "ticks": "",
           "title": {
            "standoff": 15
           },
           "zerolinecolor": "white",
           "zerolinewidth": 2
          }
         }
        },
        "title": {
         "text": "House Prices Around $450,000"
        },
        "xaxis": {
         "anchor": "y",
         "domain": [
          0,
          1
         ],
         "title": {
          "text": "Date Sold"
         }
        },
        "yaxis": {
         "anchor": "x",
         "domain": [
          0,
          1
         ],
         "title": {
          "text": "Price Sold"
         }
        }
       }
      }
     },
     "metadata": {},
     "output_type": "display_data"
    },
    {
     "data": {
      "application/vnd.plotly.v1+json": {
       "config": {
        "plotlyServerURL": "https://plot.ly"
       },
       "data": [
        {
         "hoverinfo": "x+y",
         "hovertemplate": "Month: %{x}<br>Average Price: %{y:.3s}",
         "line": {
          "color": "blue"
         },
         "marker": {
          "size": 10
         },
         "mode": "lines+markers",
         "name": "",
         "type": "scatter",
         "x": [
          1,
          2,
          3,
          4,
          5,
          6,
          7,
          8,
          9,
          10,
          11,
          12
         ],
         "y": [
          436000,
          425000,
          471000,
          467516.6666666667,
          461377.77777777775,
          450653.8461538461,
          454875,
          452563.63636363635,
          445444.44444444444,
          456416.6666666667,
          462833.3333333333,
          444790
         ]
        }
       ],
       "layout": {
        "annotations": [
         {
          "showarrow": false,
          "text": "Best Month to Buy",
          "x": 2,
          "xanchor": "left",
          "xref": "x",
          "y": 1,
          "yanchor": "top",
          "yref": "y domain"
         }
        ],
        "shapes": [
         {
          "line": {
           "color": "red",
           "dash": "dash"
          },
          "type": "line",
          "x0": 2,
          "x1": 2,
          "xref": "x",
          "y0": 0,
          "y1": 1,
          "yref": "y domain"
         }
        ],
        "template": {
         "data": {
          "bar": [
           {
            "error_x": {
             "color": "#2a3f5f"
            },
            "error_y": {
             "color": "#2a3f5f"
            },
            "marker": {
             "line": {
              "color": "#E5ECF6",
              "width": 0.5
             },
             "pattern": {
              "fillmode": "overlay",
              "size": 10,
              "solidity": 0.2
             }
            },
            "type": "bar"
           }
          ],
          "barpolar": [
           {
            "marker": {
             "line": {
              "color": "#E5ECF6",
              "width": 0.5
             },
             "pattern": {
              "fillmode": "overlay",
              "size": 10,
              "solidity": 0.2
             }
            },
            "type": "barpolar"
           }
          ],
          "carpet": [
           {
            "aaxis": {
             "endlinecolor": "#2a3f5f",
             "gridcolor": "white",
             "linecolor": "white",
             "minorgridcolor": "white",
             "startlinecolor": "#2a3f5f"
            },
            "baxis": {
             "endlinecolor": "#2a3f5f",
             "gridcolor": "white",
             "linecolor": "white",
             "minorgridcolor": "white",
             "startlinecolor": "#2a3f5f"
            },
            "type": "carpet"
           }
          ],
          "choropleth": [
           {
            "colorbar": {
             "outlinewidth": 0,
             "ticks": ""
            },
            "type": "choropleth"
           }
          ],
          "contour": [
           {
            "colorbar": {
             "outlinewidth": 0,
             "ticks": ""
            },
            "colorscale": [
             [
              0,
              "#0d0887"
             ],
             [
              0.1111111111111111,
              "#46039f"
             ],
             [
              0.2222222222222222,
              "#7201a8"
             ],
             [
              0.3333333333333333,
              "#9c179e"
             ],
             [
              0.4444444444444444,
              "#bd3786"
             ],
             [
              0.5555555555555556,
              "#d8576b"
             ],
             [
              0.6666666666666666,
              "#ed7953"
             ],
             [
              0.7777777777777778,
              "#fb9f3a"
             ],
             [
              0.8888888888888888,
              "#fdca26"
             ],
             [
              1,
              "#f0f921"
             ]
            ],
            "type": "contour"
           }
          ],
          "contourcarpet": [
           {
            "colorbar": {
             "outlinewidth": 0,
             "ticks": ""
            },
            "type": "contourcarpet"
           }
          ],
          "heatmap": [
           {
            "colorbar": {
             "outlinewidth": 0,
             "ticks": ""
            },
            "colorscale": [
             [
              0,
              "#0d0887"
             ],
             [
              0.1111111111111111,
              "#46039f"
             ],
             [
              0.2222222222222222,
              "#7201a8"
             ],
             [
              0.3333333333333333,
              "#9c179e"
             ],
             [
              0.4444444444444444,
              "#bd3786"
             ],
             [
              0.5555555555555556,
              "#d8576b"
             ],
             [
              0.6666666666666666,
              "#ed7953"
             ],
             [
              0.7777777777777778,
              "#fb9f3a"
             ],
             [
              0.8888888888888888,
              "#fdca26"
             ],
             [
              1,
              "#f0f921"
             ]
            ],
            "type": "heatmap"
           }
          ],
          "heatmapgl": [
           {
            "colorbar": {
             "outlinewidth": 0,
             "ticks": ""
            },
            "colorscale": [
             [
              0,
              "#0d0887"
             ],
             [
              0.1111111111111111,
              "#46039f"
             ],
             [
              0.2222222222222222,
              "#7201a8"
             ],
             [
              0.3333333333333333,
              "#9c179e"
             ],
             [
              0.4444444444444444,
              "#bd3786"
             ],
             [
              0.5555555555555556,
              "#d8576b"
             ],
             [
              0.6666666666666666,
              "#ed7953"
             ],
             [
              0.7777777777777778,
              "#fb9f3a"
             ],
             [
              0.8888888888888888,
              "#fdca26"
             ],
             [
              1,
              "#f0f921"
             ]
            ],
            "type": "heatmapgl"
           }
          ],
          "histogram": [
           {
            "marker": {
             "pattern": {
              "fillmode": "overlay",
              "size": 10,
              "solidity": 0.2
             }
            },
            "type": "histogram"
           }
          ],
          "histogram2d": [
           {
            "colorbar": {
             "outlinewidth": 0,
             "ticks": ""
            },
            "colorscale": [
             [
              0,
              "#0d0887"
             ],
             [
              0.1111111111111111,
              "#46039f"
             ],
             [
              0.2222222222222222,
              "#7201a8"
             ],
             [
              0.3333333333333333,
              "#9c179e"
             ],
             [
              0.4444444444444444,
              "#bd3786"
             ],
             [
              0.5555555555555556,
              "#d8576b"
             ],
             [
              0.6666666666666666,
              "#ed7953"
             ],
             [
              0.7777777777777778,
              "#fb9f3a"
             ],
             [
              0.8888888888888888,
              "#fdca26"
             ],
             [
              1,
              "#f0f921"
             ]
            ],
            "type": "histogram2d"
           }
          ],
          "histogram2dcontour": [
           {
            "colorbar": {
             "outlinewidth": 0,
             "ticks": ""
            },
            "colorscale": [
             [
              0,
              "#0d0887"
             ],
             [
              0.1111111111111111,
              "#46039f"
             ],
             [
              0.2222222222222222,
              "#7201a8"
             ],
             [
              0.3333333333333333,
              "#9c179e"
             ],
             [
              0.4444444444444444,
              "#bd3786"
             ],
             [
              0.5555555555555556,
              "#d8576b"
             ],
             [
              0.6666666666666666,
              "#ed7953"
             ],
             [
              0.7777777777777778,
              "#fb9f3a"
             ],
             [
              0.8888888888888888,
              "#fdca26"
             ],
             [
              1,
              "#f0f921"
             ]
            ],
            "type": "histogram2dcontour"
           }
          ],
          "mesh3d": [
           {
            "colorbar": {
             "outlinewidth": 0,
             "ticks": ""
            },
            "type": "mesh3d"
           }
          ],
          "parcoords": [
           {
            "line": {
             "colorbar": {
              "outlinewidth": 0,
              "ticks": ""
             }
            },
            "type": "parcoords"
           }
          ],
          "pie": [
           {
            "automargin": true,
            "type": "pie"
           }
          ],
          "scatter": [
           {
            "fillpattern": {
             "fillmode": "overlay",
             "size": 10,
             "solidity": 0.2
            },
            "type": "scatter"
           }
          ],
          "scatter3d": [
           {
            "line": {
             "colorbar": {
              "outlinewidth": 0,
              "ticks": ""
             }
            },
            "marker": {
             "colorbar": {
              "outlinewidth": 0,
              "ticks": ""
             }
            },
            "type": "scatter3d"
           }
          ],
          "scattercarpet": [
           {
            "marker": {
             "colorbar": {
              "outlinewidth": 0,
              "ticks": ""
             }
            },
            "type": "scattercarpet"
           }
          ],
          "scattergeo": [
           {
            "marker": {
             "colorbar": {
              "outlinewidth": 0,
              "ticks": ""
             }
            },
            "type": "scattergeo"
           }
          ],
          "scattergl": [
           {
            "marker": {
             "colorbar": {
              "outlinewidth": 0,
              "ticks": ""
             }
            },
            "type": "scattergl"
           }
          ],
          "scattermapbox": [
           {
            "marker": {
             "colorbar": {
              "outlinewidth": 0,
              "ticks": ""
             }
            },
            "type": "scattermapbox"
           }
          ],
          "scatterpolar": [
           {
            "marker": {
             "colorbar": {
              "outlinewidth": 0,
              "ticks": ""
             }
            },
            "type": "scatterpolar"
           }
          ],
          "scatterpolargl": [
           {
            "marker": {
             "colorbar": {
              "outlinewidth": 0,
              "ticks": ""
             }
            },
            "type": "scatterpolargl"
           }
          ],
          "scatterternary": [
           {
            "marker": {
             "colorbar": {
              "outlinewidth": 0,
              "ticks": ""
             }
            },
            "type": "scatterternary"
           }
          ],
          "surface": [
           {
            "colorbar": {
             "outlinewidth": 0,
             "ticks": ""
            },
            "colorscale": [
             [
              0,
              "#0d0887"
             ],
             [
              0.1111111111111111,
              "#46039f"
             ],
             [
              0.2222222222222222,
              "#7201a8"
             ],
             [
              0.3333333333333333,
              "#9c179e"
             ],
             [
              0.4444444444444444,
              "#bd3786"
             ],
             [
              0.5555555555555556,
              "#d8576b"
             ],
             [
              0.6666666666666666,
              "#ed7953"
             ],
             [
              0.7777777777777778,
              "#fb9f3a"
             ],
             [
              0.8888888888888888,
              "#fdca26"
             ],
             [
              1,
              "#f0f921"
             ]
            ],
            "type": "surface"
           }
          ],
          "table": [
           {
            "cells": {
             "fill": {
              "color": "#EBF0F8"
             },
             "line": {
              "color": "white"
             }
            },
            "header": {
             "fill": {
              "color": "#C8D4E3"
             },
             "line": {
              "color": "white"
             }
            },
            "type": "table"
           }
          ]
         },
         "layout": {
          "annotationdefaults": {
           "arrowcolor": "#2a3f5f",
           "arrowhead": 0,
           "arrowwidth": 1
          },
          "autotypenumbers": "strict",
          "coloraxis": {
           "colorbar": {
            "outlinewidth": 0,
            "ticks": ""
           }
          },
          "colorscale": {
           "diverging": [
            [
             0,
             "#8e0152"
            ],
            [
             0.1,
             "#c51b7d"
            ],
            [
             0.2,
             "#de77ae"
            ],
            [
             0.3,
             "#f1b6da"
            ],
            [
             0.4,
             "#fde0ef"
            ],
            [
             0.5,
             "#f7f7f7"
            ],
            [
             0.6,
             "#e6f5d0"
            ],
            [
             0.7,
             "#b8e186"
            ],
            [
             0.8,
             "#7fbc41"
            ],
            [
             0.9,
             "#4d9221"
            ],
            [
             1,
             "#276419"
            ]
           ],
           "sequential": [
            [
             0,
             "#0d0887"
            ],
            [
             0.1111111111111111,
             "#46039f"
            ],
            [
             0.2222222222222222,
             "#7201a8"
            ],
            [
             0.3333333333333333,
             "#9c179e"
            ],
            [
             0.4444444444444444,
             "#bd3786"
            ],
            [
             0.5555555555555556,
             "#d8576b"
            ],
            [
             0.6666666666666666,
             "#ed7953"
            ],
            [
             0.7777777777777778,
             "#fb9f3a"
            ],
            [
             0.8888888888888888,
             "#fdca26"
            ],
            [
             1,
             "#f0f921"
            ]
           ],
           "sequentialminus": [
            [
             0,
             "#0d0887"
            ],
            [
             0.1111111111111111,
             "#46039f"
            ],
            [
             0.2222222222222222,
             "#7201a8"
            ],
            [
             0.3333333333333333,
             "#9c179e"
            ],
            [
             0.4444444444444444,
             "#bd3786"
            ],
            [
             0.5555555555555556,
             "#d8576b"
            ],
            [
             0.6666666666666666,
             "#ed7953"
            ],
            [
             0.7777777777777778,
             "#fb9f3a"
            ],
            [
             0.8888888888888888,
             "#fdca26"
            ],
            [
             1,
             "#f0f921"
            ]
           ]
          },
          "colorway": [
           "#636efa",
           "#EF553B",
           "#00cc96",
           "#ab63fa",
           "#FFA15A",
           "#19d3f3",
           "#FF6692",
           "#B6E880",
           "#FF97FF",
           "#FECB52"
          ],
          "font": {
           "color": "#2a3f5f"
          },
          "geo": {
           "bgcolor": "white",
           "lakecolor": "white",
           "landcolor": "#E5ECF6",
           "showlakes": true,
           "showland": true,
           "subunitcolor": "white"
          },
          "hoverlabel": {
           "align": "left"
          },
          "hovermode": "closest",
          "mapbox": {
           "style": "light"
          },
          "paper_bgcolor": "white",
          "plot_bgcolor": "#E5ECF6",
          "polar": {
           "angularaxis": {
            "gridcolor": "white",
            "linecolor": "white",
            "ticks": ""
           },
           "bgcolor": "#E5ECF6",
           "radialaxis": {
            "gridcolor": "white",
            "linecolor": "white",
            "ticks": ""
           }
          },
          "scene": {
           "xaxis": {
            "backgroundcolor": "#E5ECF6",
            "gridcolor": "white",
            "gridwidth": 2,
            "linecolor": "white",
            "showbackground": true,
            "ticks": "",
            "zerolinecolor": "white"
           },
           "yaxis": {
            "backgroundcolor": "#E5ECF6",
            "gridcolor": "white",
            "gridwidth": 2,
            "linecolor": "white",
            "showbackground": true,
            "ticks": "",
            "zerolinecolor": "white"
           },
           "zaxis": {
            "backgroundcolor": "#E5ECF6",
            "gridcolor": "white",
            "gridwidth": 2,
            "linecolor": "white",
            "showbackground": true,
            "ticks": "",
            "zerolinecolor": "white"
           }
          },
          "shapedefaults": {
           "line": {
            "color": "#2a3f5f"
           }
          },
          "ternary": {
           "aaxis": {
            "gridcolor": "white",
            "linecolor": "white",
            "ticks": ""
           },
           "baxis": {
            "gridcolor": "white",
            "linecolor": "white",
            "ticks": ""
           },
           "bgcolor": "#E5ECF6",
           "caxis": {
            "gridcolor": "white",
            "linecolor": "white",
            "ticks": ""
           }
          },
          "title": {
           "x": 0.05
          },
          "xaxis": {
           "automargin": true,
           "gridcolor": "white",
           "linecolor": "white",
           "ticks": "",
           "title": {
            "standoff": 15
           },
           "zerolinecolor": "white",
           "zerolinewidth": 2
          },
          "yaxis": {
           "automargin": true,
           "gridcolor": "white",
           "linecolor": "white",
           "ticks": "",
           "title": {
            "standoff": 15
           },
           "zerolinecolor": "white",
           "zerolinewidth": 2
          }
         }
        },
        "title": {
         "text": "Average House Prices per Month for Houses Around $450,000"
        },
        "xaxis": {
         "dtick": 1,
         "tick0": 1,
         "tickmode": "linear",
         "title": {
          "text": "Month"
         }
        },
        "yaxis": {
         "title": {
          "text": "Average Price"
         }
        }
       }
      }
     },
     "metadata": {},
     "output_type": "display_data"
    },
    {
     "data": {
      "application/vnd.plotly.v1+json": {
       "config": {
        "plotlyServerURL": "https://plot.ly"
       },
       "data": [
        {
         "hoverinfo": "y",
         "line": {
          "color": "green"
         },
         "marker": {
          "size": 10
         },
         "mode": "lines+markers",
         "name": "Average Number of Houses Sold",
         "type": "scatter",
         "x": [
          1,
          2,
          3,
          4,
          5,
          6,
          7,
          8,
          9,
          10,
          11,
          12
         ],
         "y": [
          2,
          2,
          1,
          3,
          9,
          13,
          8,
          11,
          9,
          12,
          3,
          5
         ]
        }
       ],
       "layout": {
        "annotations": [
         {
          "showarrow": false,
          "text": "Best Month to Buy",
          "x": 2,
          "xanchor": "left",
          "xref": "x",
          "y": 1,
          "yanchor": "top",
          "yref": "y domain"
         }
        ],
        "shapes": [
         {
          "line": {
           "color": "red",
           "dash": "dash"
          },
          "type": "line",
          "x0": 2,
          "x1": 2,
          "xref": "x",
          "y0": 0,
          "y1": 1,
          "yref": "y domain"
         }
        ],
        "template": {
         "data": {
          "bar": [
           {
            "error_x": {
             "color": "#2a3f5f"
            },
            "error_y": {
             "color": "#2a3f5f"
            },
            "marker": {
             "line": {
              "color": "#E5ECF6",
              "width": 0.5
             },
             "pattern": {
              "fillmode": "overlay",
              "size": 10,
              "solidity": 0.2
             }
            },
            "type": "bar"
           }
          ],
          "barpolar": [
           {
            "marker": {
             "line": {
              "color": "#E5ECF6",
              "width": 0.5
             },
             "pattern": {
              "fillmode": "overlay",
              "size": 10,
              "solidity": 0.2
             }
            },
            "type": "barpolar"
           }
          ],
          "carpet": [
           {
            "aaxis": {
             "endlinecolor": "#2a3f5f",
             "gridcolor": "white",
             "linecolor": "white",
             "minorgridcolor": "white",
             "startlinecolor": "#2a3f5f"
            },
            "baxis": {
             "endlinecolor": "#2a3f5f",
             "gridcolor": "white",
             "linecolor": "white",
             "minorgridcolor": "white",
             "startlinecolor": "#2a3f5f"
            },
            "type": "carpet"
           }
          ],
          "choropleth": [
           {
            "colorbar": {
             "outlinewidth": 0,
             "ticks": ""
            },
            "type": "choropleth"
           }
          ],
          "contour": [
           {
            "colorbar": {
             "outlinewidth": 0,
             "ticks": ""
            },
            "colorscale": [
             [
              0,
              "#0d0887"
             ],
             [
              0.1111111111111111,
              "#46039f"
             ],
             [
              0.2222222222222222,
              "#7201a8"
             ],
             [
              0.3333333333333333,
              "#9c179e"
             ],
             [
              0.4444444444444444,
              "#bd3786"
             ],
             [
              0.5555555555555556,
              "#d8576b"
             ],
             [
              0.6666666666666666,
              "#ed7953"
             ],
             [
              0.7777777777777778,
              "#fb9f3a"
             ],
             [
              0.8888888888888888,
              "#fdca26"
             ],
             [
              1,
              "#f0f921"
             ]
            ],
            "type": "contour"
           }
          ],
          "contourcarpet": [
           {
            "colorbar": {
             "outlinewidth": 0,
             "ticks": ""
            },
            "type": "contourcarpet"
           }
          ],
          "heatmap": [
           {
            "colorbar": {
             "outlinewidth": 0,
             "ticks": ""
            },
            "colorscale": [
             [
              0,
              "#0d0887"
             ],
             [
              0.1111111111111111,
              "#46039f"
             ],
             [
              0.2222222222222222,
              "#7201a8"
             ],
             [
              0.3333333333333333,
              "#9c179e"
             ],
             [
              0.4444444444444444,
              "#bd3786"
             ],
             [
              0.5555555555555556,
              "#d8576b"
             ],
             [
              0.6666666666666666,
              "#ed7953"
             ],
             [
              0.7777777777777778,
              "#fb9f3a"
             ],
             [
              0.8888888888888888,
              "#fdca26"
             ],
             [
              1,
              "#f0f921"
             ]
            ],
            "type": "heatmap"
           }
          ],
          "heatmapgl": [
           {
            "colorbar": {
             "outlinewidth": 0,
             "ticks": ""
            },
            "colorscale": [
             [
              0,
              "#0d0887"
             ],
             [
              0.1111111111111111,
              "#46039f"
             ],
             [
              0.2222222222222222,
              "#7201a8"
             ],
             [
              0.3333333333333333,
              "#9c179e"
             ],
             [
              0.4444444444444444,
              "#bd3786"
             ],
             [
              0.5555555555555556,
              "#d8576b"
             ],
             [
              0.6666666666666666,
              "#ed7953"
             ],
             [
              0.7777777777777778,
              "#fb9f3a"
             ],
             [
              0.8888888888888888,
              "#fdca26"
             ],
             [
              1,
              "#f0f921"
             ]
            ],
            "type": "heatmapgl"
           }
          ],
          "histogram": [
           {
            "marker": {
             "pattern": {
              "fillmode": "overlay",
              "size": 10,
              "solidity": 0.2
             }
            },
            "type": "histogram"
           }
          ],
          "histogram2d": [
           {
            "colorbar": {
             "outlinewidth": 0,
             "ticks": ""
            },
            "colorscale": [
             [
              0,
              "#0d0887"
             ],
             [
              0.1111111111111111,
              "#46039f"
             ],
             [
              0.2222222222222222,
              "#7201a8"
             ],
             [
              0.3333333333333333,
              "#9c179e"
             ],
             [
              0.4444444444444444,
              "#bd3786"
             ],
             [
              0.5555555555555556,
              "#d8576b"
             ],
             [
              0.6666666666666666,
              "#ed7953"
             ],
             [
              0.7777777777777778,
              "#fb9f3a"
             ],
             [
              0.8888888888888888,
              "#fdca26"
             ],
             [
              1,
              "#f0f921"
             ]
            ],
            "type": "histogram2d"
           }
          ],
          "histogram2dcontour": [
           {
            "colorbar": {
             "outlinewidth": 0,
             "ticks": ""
            },
            "colorscale": [
             [
              0,
              "#0d0887"
             ],
             [
              0.1111111111111111,
              "#46039f"
             ],
             [
              0.2222222222222222,
              "#7201a8"
             ],
             [
              0.3333333333333333,
              "#9c179e"
             ],
             [
              0.4444444444444444,
              "#bd3786"
             ],
             [
              0.5555555555555556,
              "#d8576b"
             ],
             [
              0.6666666666666666,
              "#ed7953"
             ],
             [
              0.7777777777777778,
              "#fb9f3a"
             ],
             [
              0.8888888888888888,
              "#fdca26"
             ],
             [
              1,
              "#f0f921"
             ]
            ],
            "type": "histogram2dcontour"
           }
          ],
          "mesh3d": [
           {
            "colorbar": {
             "outlinewidth": 0,
             "ticks": ""
            },
            "type": "mesh3d"
           }
          ],
          "parcoords": [
           {
            "line": {
             "colorbar": {
              "outlinewidth": 0,
              "ticks": ""
             }
            },
            "type": "parcoords"
           }
          ],
          "pie": [
           {
            "automargin": true,
            "type": "pie"
           }
          ],
          "scatter": [
           {
            "fillpattern": {
             "fillmode": "overlay",
             "size": 10,
             "solidity": 0.2
            },
            "type": "scatter"
           }
          ],
          "scatter3d": [
           {
            "line": {
             "colorbar": {
              "outlinewidth": 0,
              "ticks": ""
             }
            },
            "marker": {
             "colorbar": {
              "outlinewidth": 0,
              "ticks": ""
             }
            },
            "type": "scatter3d"
           }
          ],
          "scattercarpet": [
           {
            "marker": {
             "colorbar": {
              "outlinewidth": 0,
              "ticks": ""
             }
            },
            "type": "scattercarpet"
           }
          ],
          "scattergeo": [
           {
            "marker": {
             "colorbar": {
              "outlinewidth": 0,
              "ticks": ""
             }
            },
            "type": "scattergeo"
           }
          ],
          "scattergl": [
           {
            "marker": {
             "colorbar": {
              "outlinewidth": 0,
              "ticks": ""
             }
            },
            "type": "scattergl"
           }
          ],
          "scattermapbox": [
           {
            "marker": {
             "colorbar": {
              "outlinewidth": 0,
              "ticks": ""
             }
            },
            "type": "scattermapbox"
           }
          ],
          "scatterpolar": [
           {
            "marker": {
             "colorbar": {
              "outlinewidth": 0,
              "ticks": ""
             }
            },
            "type": "scatterpolar"
           }
          ],
          "scatterpolargl": [
           {
            "marker": {
             "colorbar": {
              "outlinewidth": 0,
              "ticks": ""
             }
            },
            "type": "scatterpolargl"
           }
          ],
          "scatterternary": [
           {
            "marker": {
             "colorbar": {
              "outlinewidth": 0,
              "ticks": ""
             }
            },
            "type": "scatterternary"
           }
          ],
          "surface": [
           {
            "colorbar": {
             "outlinewidth": 0,
             "ticks": ""
            },
            "colorscale": [
             [
              0,
              "#0d0887"
             ],
             [
              0.1111111111111111,
              "#46039f"
             ],
             [
              0.2222222222222222,
              "#7201a8"
             ],
             [
              0.3333333333333333,
              "#9c179e"
             ],
             [
              0.4444444444444444,
              "#bd3786"
             ],
             [
              0.5555555555555556,
              "#d8576b"
             ],
             [
              0.6666666666666666,
              "#ed7953"
             ],
             [
              0.7777777777777778,
              "#fb9f3a"
             ],
             [
              0.8888888888888888,
              "#fdca26"
             ],
             [
              1,
              "#f0f921"
             ]
            ],
            "type": "surface"
           }
          ],
          "table": [
           {
            "cells": {
             "fill": {
              "color": "#EBF0F8"
             },
             "line": {
              "color": "white"
             }
            },
            "header": {
             "fill": {
              "color": "#C8D4E3"
             },
             "line": {
              "color": "white"
             }
            },
            "type": "table"
           }
          ]
         },
         "layout": {
          "annotationdefaults": {
           "arrowcolor": "#2a3f5f",
           "arrowhead": 0,
           "arrowwidth": 1
          },
          "autotypenumbers": "strict",
          "coloraxis": {
           "colorbar": {
            "outlinewidth": 0,
            "ticks": ""
           }
          },
          "colorscale": {
           "diverging": [
            [
             0,
             "#8e0152"
            ],
            [
             0.1,
             "#c51b7d"
            ],
            [
             0.2,
             "#de77ae"
            ],
            [
             0.3,
             "#f1b6da"
            ],
            [
             0.4,
             "#fde0ef"
            ],
            [
             0.5,
             "#f7f7f7"
            ],
            [
             0.6,
             "#e6f5d0"
            ],
            [
             0.7,
             "#b8e186"
            ],
            [
             0.8,
             "#7fbc41"
            ],
            [
             0.9,
             "#4d9221"
            ],
            [
             1,
             "#276419"
            ]
           ],
           "sequential": [
            [
             0,
             "#0d0887"
            ],
            [
             0.1111111111111111,
             "#46039f"
            ],
            [
             0.2222222222222222,
             "#7201a8"
            ],
            [
             0.3333333333333333,
             "#9c179e"
            ],
            [
             0.4444444444444444,
             "#bd3786"
            ],
            [
             0.5555555555555556,
             "#d8576b"
            ],
            [
             0.6666666666666666,
             "#ed7953"
            ],
            [
             0.7777777777777778,
             "#fb9f3a"
            ],
            [
             0.8888888888888888,
             "#fdca26"
            ],
            [
             1,
             "#f0f921"
            ]
           ],
           "sequentialminus": [
            [
             0,
             "#0d0887"
            ],
            [
             0.1111111111111111,
             "#46039f"
            ],
            [
             0.2222222222222222,
             "#7201a8"
            ],
            [
             0.3333333333333333,
             "#9c179e"
            ],
            [
             0.4444444444444444,
             "#bd3786"
            ],
            [
             0.5555555555555556,
             "#d8576b"
            ],
            [
             0.6666666666666666,
             "#ed7953"
            ],
            [
             0.7777777777777778,
             "#fb9f3a"
            ],
            [
             0.8888888888888888,
             "#fdca26"
            ],
            [
             1,
             "#f0f921"
            ]
           ]
          },
          "colorway": [
           "#636efa",
           "#EF553B",
           "#00cc96",
           "#ab63fa",
           "#FFA15A",
           "#19d3f3",
           "#FF6692",
           "#B6E880",
           "#FF97FF",
           "#FECB52"
          ],
          "font": {
           "color": "#2a3f5f"
          },
          "geo": {
           "bgcolor": "white",
           "lakecolor": "white",
           "landcolor": "#E5ECF6",
           "showlakes": true,
           "showland": true,
           "subunitcolor": "white"
          },
          "hoverlabel": {
           "align": "left"
          },
          "hovermode": "closest",
          "mapbox": {
           "style": "light"
          },
          "paper_bgcolor": "white",
          "plot_bgcolor": "#E5ECF6",
          "polar": {
           "angularaxis": {
            "gridcolor": "white",
            "linecolor": "white",
            "ticks": ""
           },
           "bgcolor": "#E5ECF6",
           "radialaxis": {
            "gridcolor": "white",
            "linecolor": "white",
            "ticks": ""
           }
          },
          "scene": {
           "xaxis": {
            "backgroundcolor": "#E5ECF6",
            "gridcolor": "white",
            "gridwidth": 2,
            "linecolor": "white",
            "showbackground": true,
            "ticks": "",
            "zerolinecolor": "white"
           },
           "yaxis": {
            "backgroundcolor": "#E5ECF6",
            "gridcolor": "white",
            "gridwidth": 2,
            "linecolor": "white",
            "showbackground": true,
            "ticks": "",
            "zerolinecolor": "white"
           },
           "zaxis": {
            "backgroundcolor": "#E5ECF6",
            "gridcolor": "white",
            "gridwidth": 2,
            "linecolor": "white",
            "showbackground": true,
            "ticks": "",
            "zerolinecolor": "white"
           }
          },
          "shapedefaults": {
           "line": {
            "color": "#2a3f5f"
           }
          },
          "ternary": {
           "aaxis": {
            "gridcolor": "white",
            "linecolor": "white",
            "ticks": ""
           },
           "baxis": {
            "gridcolor": "white",
            "linecolor": "white",
            "ticks": ""
           },
           "bgcolor": "#E5ECF6",
           "caxis": {
            "gridcolor": "white",
            "linecolor": "white",
            "ticks": ""
           }
          },
          "title": {
           "x": 0.05
          },
          "xaxis": {
           "automargin": true,
           "gridcolor": "white",
           "linecolor": "white",
           "ticks": "",
           "title": {
            "standoff": 15
           },
           "zerolinecolor": "white",
           "zerolinewidth": 2
          },
          "yaxis": {
           "automargin": true,
           "gridcolor": "white",
           "linecolor": "white",
           "ticks": "",
           "title": {
            "standoff": 15
           },
           "zerolinecolor": "white",
           "zerolinewidth": 2
          }
         }
        },
        "title": {
         "text": "Average Number of Houses Sold per Month for Houses Around $450,000"
        },
        "xaxis": {
         "dtick": 1,
         "tick0": 1,
         "tickmode": "linear",
         "title": {
          "text": "Month"
         }
        },
        "yaxis": {
         "title": {
          "text": "Number of Houses Sold"
         }
        }
       }
      }
     },
     "metadata": {},
     "output_type": "display_data"
    }
   ],
   "source": [
    "import plotly.express as px\n",
    "import plotly.graph_objects as go\n",
    "\n",
    "\n",
    "# Filter the dataset for houses around $450,000 and with grade 7 or higher\n",
    "price_min = 425000\n",
    "price_max = 475000\n",
    "filtered_df = df[(df['price'] >= price_min) & (df['price'] <= price_max) & (df['grade'] >= 7) & (df['live_nh'] != 'Else')]\n",
    "\n",
    "# Add a month column to the filtered dataframe\n",
    "filtered_df['month'] = filtered_df['date'].dt.month\n",
    "\n",
    "# Group by month to find the average price and average number of houses sold for filtered data\n",
    "monthly_avg_price_filtered = filtered_df.groupby('month')['price'].mean()\n",
    "monthly_houses_sold_filtered = filtered_df.groupby('month').size()\n",
    "\n",
    "# Find the month with the lowest average price for filtered data\n",
    "lowest_avg_price_month_filtered = monthly_avg_price_filtered.idxmin()\n",
    "\n",
    "print(f\"The month with the lowest average prices for houses around $450,000 is: {lowest_avg_price_month_filtered}\")\n",
    "print(f\"The average number of houses sold in this month per year is: {monthly_houses_sold_filtered[lowest_avg_price_month_filtered]}\")\n",
    "\n",
    "# Plot interactive scatter plot for filtered data\n",
    "fig = px.scatter(filtered_df, x='date', y='price', hover_data=['date', 'price'], title='House Prices Around $450,000',\n",
    "                 labels={'date': 'Date Sold', 'price': 'Price Sold'})\n",
    "fig.update_traces(marker=dict(size=8, opacity=0.6))\n",
    "\n",
    "# Define a function to format the y-value as thousands\n",
    "def format_price(x):\n",
    "    if x >= 1000:\n",
    "        return f'{x/1000:.1f}k'  # Format with one decimal place if above 1000\n",
    "    else:\n",
    "        return f'{x:.0f}'  # Format as whole number if below 1000\n",
    "\n",
    "# Plotly figure creation\n",
    "fig_avg_price = go.Figure()\n",
    "\n",
    "fig_avg_price.add_trace(go.Scatter(\n",
    "    x=monthly_avg_price_filtered.index,\n",
    "    y=monthly_avg_price_filtered.values,\n",
    "    mode='lines+markers',\n",
    "    name='',\n",
    "    line=dict(color='blue'),\n",
    "    hoverinfo='x+y',  # Show both x and y in hoverinfo\n",
    "    hovertemplate='Month: %{x}<br>Average Price: %{y:.3s}',  # Use .3s to format y as thousands\n",
    "    marker=dict(size=10)\n",
    "))\n",
    "\n",
    "# Highlight the best month to buy\n",
    "fig_avg_price.add_vline(x=lowest_avg_price_month_filtered, line=dict(color='red', dash='dash'), \n",
    "                        annotation_text='Best Month to Buy', annotation_position='top right')\n",
    "\n",
    "fig_avg_price.update_layout(title='Average House Prices per Month for Houses Around $450,000',\n",
    "                            xaxis_title='Month', yaxis_title='Average Price', \n",
    "                            xaxis=dict(tickmode='linear', tick0=1, dtick=1))\n",
    "\n",
    "# Plot average number of houses sold for filtered data\n",
    "fig_avg_sold = go.Figure()\n",
    "\n",
    "fig_avg_sold.add_trace(go.Scatter(x=monthly_houses_sold_filtered.index, y=monthly_houses_sold_filtered.values,\n",
    "                                  mode='lines+markers', name='Average Number of Houses Sold', line=dict(color='green'), \n",
    "                                  hoverinfo='y', marker=dict(size=10)))\n",
    "\n",
    "# Highlight the best month to buy\n",
    "fig_avg_sold.add_vline(x=lowest_avg_price_month_filtered, line=dict(color='red', dash='dash'), \n",
    "                       annotation_text='Best Month to Buy', annotation_position='top right')\n",
    "\n",
    "fig_avg_sold.update_layout(title='Average Number of Houses Sold per Month for Houses Around $450,000',\n",
    "                           xaxis_title='Month', yaxis_title='Number of Houses Sold', \n",
    "                           xaxis=dict(tickmode='linear', tick0=1, dtick=1))\n",
    "\n",
    "fig.show()\n",
    "fig_avg_price.show()\n",
    "fig_avg_sold.show()"
   ]
  },
  {
   "cell_type": "markdown",
   "metadata": {},
   "source": [
    "Create df where all houses in Price-range and Neighborhood are shown, while differentiating between best month and rest by color"
   ]
  },
  {
   "cell_type": "code",
   "execution_count": 197,
   "metadata": {},
   "outputs": [
    {
     "data": {
      "text/html": [
       "<div>\n",
       "<style scoped>\n",
       "    .dataframe tbody tr th:only-of-type {\n",
       "        vertical-align: middle;\n",
       "    }\n",
       "\n",
       "    .dataframe tbody tr th {\n",
       "        vertical-align: top;\n",
       "    }\n",
       "\n",
       "    .dataframe thead th {\n",
       "        text-align: right;\n",
       "    }\n",
       "</style>\n",
       "<table border=\"1\" class=\"dataframe\">\n",
       "  <thead>\n",
       "    <tr style=\"text-align: right;\">\n",
       "      <th></th>\n",
       "      <th>bedrooms</th>\n",
       "      <th>bathrooms</th>\n",
       "      <th>sqft_living</th>\n",
       "      <th>sqft_lot</th>\n",
       "      <th>floors</th>\n",
       "      <th>waterfront</th>\n",
       "      <th>view</th>\n",
       "      <th>condition</th>\n",
       "      <th>grade</th>\n",
       "      <th>sqft_above</th>\n",
       "      <th>...</th>\n",
       "      <th>zipcode</th>\n",
       "      <th>lat</th>\n",
       "      <th>long</th>\n",
       "      <th>sqft_living15</th>\n",
       "      <th>sqft_lot15</th>\n",
       "      <th>date</th>\n",
       "      <th>price</th>\n",
       "      <th>renovated</th>\n",
       "      <th>live_nh</th>\n",
       "      <th>month</th>\n",
       "    </tr>\n",
       "    <tr>\n",
       "      <th>house_id</th>\n",
       "      <th></th>\n",
       "      <th></th>\n",
       "      <th></th>\n",
       "      <th></th>\n",
       "      <th></th>\n",
       "      <th></th>\n",
       "      <th></th>\n",
       "      <th></th>\n",
       "      <th></th>\n",
       "      <th></th>\n",
       "      <th></th>\n",
       "      <th></th>\n",
       "      <th></th>\n",
       "      <th></th>\n",
       "      <th></th>\n",
       "      <th></th>\n",
       "      <th></th>\n",
       "      <th></th>\n",
       "      <th></th>\n",
       "      <th></th>\n",
       "      <th></th>\n",
       "    </tr>\n",
       "  </thead>\n",
       "  <tbody>\n",
       "    <tr>\n",
       "      <th>1232001480</th>\n",
       "      <td>2.000</td>\n",
       "      <td>1.000</td>\n",
       "      <td>840.000</td>\n",
       "      <td>3840.000</td>\n",
       "      <td>1.000</td>\n",
       "      <td>0.000</td>\n",
       "      <td>0.000</td>\n",
       "      <td>4</td>\n",
       "      <td>7</td>\n",
       "      <td>840.000</td>\n",
       "      <td>...</td>\n",
       "      <td>98117</td>\n",
       "      <td>47.684</td>\n",
       "      <td>-122.378</td>\n",
       "      <td>1310.000</td>\n",
       "      <td>3840.000</td>\n",
       "      <td>2014-07-10</td>\n",
       "      <td>445000.000</td>\n",
       "      <td>0</td>\n",
       "      <td>Ballard</td>\n",
       "      <td>7</td>\n",
       "    </tr>\n",
       "    <tr>\n",
       "      <th>1232002015</th>\n",
       "      <td>3.000</td>\n",
       "      <td>1.000</td>\n",
       "      <td>1430.000</td>\n",
       "      <td>3840.000</td>\n",
       "      <td>1.000</td>\n",
       "      <td>0.000</td>\n",
       "      <td>0.000</td>\n",
       "      <td>3</td>\n",
       "      <td>7</td>\n",
       "      <td>950.000</td>\n",
       "      <td>...</td>\n",
       "      <td>98117</td>\n",
       "      <td>47.685</td>\n",
       "      <td>-122.381</td>\n",
       "      <td>1430.000</td>\n",
       "      <td>3840.000</td>\n",
       "      <td>2014-06-05</td>\n",
       "      <td>466500.000</td>\n",
       "      <td>0</td>\n",
       "      <td>Ballard</td>\n",
       "      <td>6</td>\n",
       "    </tr>\n",
       "    <tr>\n",
       "      <th>1254200015</th>\n",
       "      <td>3.000</td>\n",
       "      <td>2.500</td>\n",
       "      <td>2260.000</td>\n",
       "      <td>5500.000</td>\n",
       "      <td>1.500</td>\n",
       "      <td>0.000</td>\n",
       "      <td>0.000</td>\n",
       "      <td>3</td>\n",
       "      <td>7</td>\n",
       "      <td>1280.000</td>\n",
       "      <td>...</td>\n",
       "      <td>98117</td>\n",
       "      <td>47.681</td>\n",
       "      <td>-122.388</td>\n",
       "      <td>1790.000</td>\n",
       "      <td>5355.000</td>\n",
       "      <td>2014-12-16</td>\n",
       "      <td>405000.000</td>\n",
       "      <td>0</td>\n",
       "      <td>Ballard</td>\n",
       "      <td>12</td>\n",
       "    </tr>\n",
       "    <tr>\n",
       "      <th>1254200075</th>\n",
       "      <td>4.000</td>\n",
       "      <td>1.750</td>\n",
       "      <td>1750.000</td>\n",
       "      <td>5500.000</td>\n",
       "      <td>1.500</td>\n",
       "      <td>0.000</td>\n",
       "      <td>0.000</td>\n",
       "      <td>5</td>\n",
       "      <td>7</td>\n",
       "      <td>1050.000</td>\n",
       "      <td>...</td>\n",
       "      <td>98117</td>\n",
       "      <td>47.680</td>\n",
       "      <td>-122.388</td>\n",
       "      <td>1640.000</td>\n",
       "      <td>5500.000</td>\n",
       "      <td>2014-05-09</td>\n",
       "      <td>460000.000</td>\n",
       "      <td>0</td>\n",
       "      <td>Ballard</td>\n",
       "      <td>5</td>\n",
       "    </tr>\n",
       "    <tr>\n",
       "      <th>1324300018</th>\n",
       "      <td>2.000</td>\n",
       "      <td>2.250</td>\n",
       "      <td>1140.000</td>\n",
       "      <td>1332.000</td>\n",
       "      <td>3.000</td>\n",
       "      <td>0.000</td>\n",
       "      <td>0.000</td>\n",
       "      <td>3</td>\n",
       "      <td>8</td>\n",
       "      <td>1140.000</td>\n",
       "      <td>...</td>\n",
       "      <td>98103</td>\n",
       "      <td>47.654</td>\n",
       "      <td>-122.356</td>\n",
       "      <td>1140.000</td>\n",
       "      <td>1267.000</td>\n",
       "      <td>2014-11-21</td>\n",
       "      <td>476000.000</td>\n",
       "      <td>0</td>\n",
       "      <td>Fremont</td>\n",
       "      <td>11</td>\n",
       "    </tr>\n",
       "    <tr>\n",
       "      <th>...</th>\n",
       "      <td>...</td>\n",
       "      <td>...</td>\n",
       "      <td>...</td>\n",
       "      <td>...</td>\n",
       "      <td>...</td>\n",
       "      <td>...</td>\n",
       "      <td>...</td>\n",
       "      <td>...</td>\n",
       "      <td>...</td>\n",
       "      <td>...</td>\n",
       "      <td>...</td>\n",
       "      <td>...</td>\n",
       "      <td>...</td>\n",
       "      <td>...</td>\n",
       "      <td>...</td>\n",
       "      <td>...</td>\n",
       "      <td>...</td>\n",
       "      <td>...</td>\n",
       "      <td>...</td>\n",
       "      <td>...</td>\n",
       "      <td>...</td>\n",
       "    </tr>\n",
       "    <tr>\n",
       "      <th>9521100866</th>\n",
       "      <td>3.000</td>\n",
       "      <td>3.250</td>\n",
       "      <td>1380.000</td>\n",
       "      <td>1120.000</td>\n",
       "      <td>3.000</td>\n",
       "      <td>0.000</td>\n",
       "      <td>0.000</td>\n",
       "      <td>3</td>\n",
       "      <td>8</td>\n",
       "      <td>1380.000</td>\n",
       "      <td>...</td>\n",
       "      <td>98103</td>\n",
       "      <td>47.662</td>\n",
       "      <td>-122.349</td>\n",
       "      <td>1310.000</td>\n",
       "      <td>1405.000</td>\n",
       "      <td>2014-06-18</td>\n",
       "      <td>482000.000</td>\n",
       "      <td>0</td>\n",
       "      <td>Fremont</td>\n",
       "      <td>6</td>\n",
       "    </tr>\n",
       "    <tr>\n",
       "      <th>9521100867</th>\n",
       "      <td>3.000</td>\n",
       "      <td>3.250</td>\n",
       "      <td>1380.000</td>\n",
       "      <td>1121.000</td>\n",
       "      <td>3.000</td>\n",
       "      <td>0.000</td>\n",
       "      <td>0.000</td>\n",
       "      <td>3</td>\n",
       "      <td>8</td>\n",
       "      <td>1380.000</td>\n",
       "      <td>...</td>\n",
       "      <td>98103</td>\n",
       "      <td>47.662</td>\n",
       "      <td>-122.349</td>\n",
       "      <td>1310.000</td>\n",
       "      <td>1405.000</td>\n",
       "      <td>2014-07-11</td>\n",
       "      <td>475000.000</td>\n",
       "      <td>0</td>\n",
       "      <td>Fremont</td>\n",
       "      <td>7</td>\n",
       "    </tr>\n",
       "    <tr>\n",
       "      <th>9521101221</th>\n",
       "      <td>4.000</td>\n",
       "      <td>2.000</td>\n",
       "      <td>1690.000</td>\n",
       "      <td>3250.000</td>\n",
       "      <td>1.500</td>\n",
       "      <td>0.000</td>\n",
       "      <td>0.000</td>\n",
       "      <td>3</td>\n",
       "      <td>7</td>\n",
       "      <td>1550.000</td>\n",
       "      <td>...</td>\n",
       "      <td>98103</td>\n",
       "      <td>47.664</td>\n",
       "      <td>-122.346</td>\n",
       "      <td>1620.000</td>\n",
       "      <td>3250.000</td>\n",
       "      <td>2014-05-19</td>\n",
       "      <td>487250.000</td>\n",
       "      <td>0</td>\n",
       "      <td>Fremont</td>\n",
       "      <td>5</td>\n",
       "    </tr>\n",
       "    <tr>\n",
       "      <th>955000060</th>\n",
       "      <td>2.000</td>\n",
       "      <td>2.000</td>\n",
       "      <td>1690.000</td>\n",
       "      <td>4200.000</td>\n",
       "      <td>2.000</td>\n",
       "      <td>0.000</td>\n",
       "      <td>0.000</td>\n",
       "      <td>3</td>\n",
       "      <td>7</td>\n",
       "      <td>1690.000</td>\n",
       "      <td>...</td>\n",
       "      <td>98112</td>\n",
       "      <td>47.621</td>\n",
       "      <td>-122.303</td>\n",
       "      <td>1540.000</td>\n",
       "      <td>4200.000</td>\n",
       "      <td>2014-09-30</td>\n",
       "      <td>462500.000</td>\n",
       "      <td>0</td>\n",
       "      <td>Capitol Hill</td>\n",
       "      <td>9</td>\n",
       "    </tr>\n",
       "    <tr>\n",
       "      <th>9828702902</th>\n",
       "      <td>2.000</td>\n",
       "      <td>2.250</td>\n",
       "      <td>1160.000</td>\n",
       "      <td>1010.000</td>\n",
       "      <td>2.000</td>\n",
       "      <td>0.000</td>\n",
       "      <td>0.000</td>\n",
       "      <td>3</td>\n",
       "      <td>8</td>\n",
       "      <td>1000.000</td>\n",
       "      <td>...</td>\n",
       "      <td>98112</td>\n",
       "      <td>47.621</td>\n",
       "      <td>-122.301</td>\n",
       "      <td>1200.000</td>\n",
       "      <td>1170.000</td>\n",
       "      <td>2014-10-21</td>\n",
       "      <td>495000.000</td>\n",
       "      <td>0</td>\n",
       "      <td>Capitol Hill</td>\n",
       "      <td>10</td>\n",
       "    </tr>\n",
       "  </tbody>\n",
       "</table>\n",
       "<p>122 rows × 23 columns</p>\n",
       "</div>"
      ],
      "text/plain": [
       "            bedrooms  bathrooms  sqft_living  sqft_lot  floors  waterfront  \\\n",
       "house_id                                                                     \n",
       "1232001480     2.000      1.000      840.000  3840.000   1.000       0.000   \n",
       "1232002015     3.000      1.000     1430.000  3840.000   1.000       0.000   \n",
       "1254200015     3.000      2.500     2260.000  5500.000   1.500       0.000   \n",
       "1254200075     4.000      1.750     1750.000  5500.000   1.500       0.000   \n",
       "1324300018     2.000      2.250     1140.000  1332.000   3.000       0.000   \n",
       "...              ...        ...          ...       ...     ...         ...   \n",
       "9521100866     3.000      3.250     1380.000  1120.000   3.000       0.000   \n",
       "9521100867     3.000      3.250     1380.000  1121.000   3.000       0.000   \n",
       "9521101221     4.000      2.000     1690.000  3250.000   1.500       0.000   \n",
       "955000060      2.000      2.000     1690.000  4200.000   2.000       0.000   \n",
       "9828702902     2.000      2.250     1160.000  1010.000   2.000       0.000   \n",
       "\n",
       "            view  condition  grade  sqft_above  ...  zipcode    lat     long  \\\n",
       "house_id                                        ...                            \n",
       "1232001480 0.000          4      7     840.000  ...    98117 47.684 -122.378   \n",
       "1232002015 0.000          3      7     950.000  ...    98117 47.685 -122.381   \n",
       "1254200015 0.000          3      7    1280.000  ...    98117 47.681 -122.388   \n",
       "1254200075 0.000          5      7    1050.000  ...    98117 47.680 -122.388   \n",
       "1324300018 0.000          3      8    1140.000  ...    98103 47.654 -122.356   \n",
       "...          ...        ...    ...         ...  ...      ...    ...      ...   \n",
       "9521100866 0.000          3      8    1380.000  ...    98103 47.662 -122.349   \n",
       "9521100867 0.000          3      8    1380.000  ...    98103 47.662 -122.349   \n",
       "9521101221 0.000          3      7    1550.000  ...    98103 47.664 -122.346   \n",
       "955000060  0.000          3      7    1690.000  ...    98112 47.621 -122.303   \n",
       "9828702902 0.000          3      8    1000.000  ...    98112 47.621 -122.301   \n",
       "\n",
       "            sqft_living15  sqft_lot15       date      price  renovated  \\\n",
       "house_id                                                                 \n",
       "1232001480       1310.000    3840.000 2014-07-10 445000.000          0   \n",
       "1232002015       1430.000    3840.000 2014-06-05 466500.000          0   \n",
       "1254200015       1790.000    5355.000 2014-12-16 405000.000          0   \n",
       "1254200075       1640.000    5500.000 2014-05-09 460000.000          0   \n",
       "1324300018       1140.000    1267.000 2014-11-21 476000.000          0   \n",
       "...                   ...         ...        ...        ...        ...   \n",
       "9521100866       1310.000    1405.000 2014-06-18 482000.000          0   \n",
       "9521100867       1310.000    1405.000 2014-07-11 475000.000          0   \n",
       "9521101221       1620.000    3250.000 2014-05-19 487250.000          0   \n",
       "955000060        1540.000    4200.000 2014-09-30 462500.000          0   \n",
       "9828702902       1200.000    1170.000 2014-10-21 495000.000          0   \n",
       "\n",
       "                 live_nh  month  \n",
       "house_id                         \n",
       "1232001480       Ballard      7  \n",
       "1232002015       Ballard      6  \n",
       "1254200015       Ballard     12  \n",
       "1254200075       Ballard      5  \n",
       "1324300018       Fremont     11  \n",
       "...                  ...    ...  \n",
       "9521100866       Fremont      6  \n",
       "9521100867       Fremont      7  \n",
       "9521101221       Fremont      5  \n",
       "955000060   Capitol Hill      9  \n",
       "9828702902  Capitol Hill     10  \n",
       "\n",
       "[122 rows x 23 columns]"
      ]
     },
     "execution_count": 197,
     "metadata": {},
     "output_type": "execute_result"
    }
   ],
   "source": [
    "# Step 1: Filter the DataFrame to exclude rows where 'live_nh' is 'Else'\n",
    "filtered_df = df[df['live_nh'] != 'Else']\n",
    "\n",
    "# Step 2: Filter houses by price around the median price range (within 10% of 450,000)\n",
    "median_price = 450000\n",
    "price_range = 0.10 * median_price\n",
    "filtered_df = filtered_df[(filtered_df['price'] >= median_price - price_range) & \n",
    "                          (filtered_df['price'] <= median_price + price_range)]\n",
    "# Step 3: Filter houses with a grade of 7 or higher\n",
    "filtered_df = filtered_df[filtered_df['grade'] >= 7]\n",
    "\n",
    "# Step 4: Convert the 'date' column to datetime format\n",
    "filtered_df['date'] = pd.to_datetime(filtered_df['date'], errors='raise')\n",
    "\n",
    "# Step 5: Extract the month from the 'date' column\n",
    "filtered_df['month'] = filtered_df['date'].dt.month\n",
    "\n",
    "# Step 6: Group by month and calculate the average price for each month\n",
    "average_prices_by_month = filtered_df.groupby('month')['price'].mean()\n",
    "\n",
    "# Step 7: Identify the month with the lowest average price\n",
    "best_month = average_prices_by_month.idxmin()\n",
    "lowest_average_price = average_prices_by_month.min()\n",
    "\n",
    "# Display the filtered DataFrame\n",
    "filtered_df\n",
    "\n"
   ]
  },
  {
   "cell_type": "markdown",
   "metadata": {},
   "source": [
    "Plot in gmap"
   ]
  },
  {
   "cell_type": "code",
   "execution_count": 198,
   "metadata": {},
   "outputs": [],
   "source": [
    "\n",
    "# Plot the houses and highlight the best month\n",
    "gmap = gmplot.GoogleMapPlotter(filtered_df['lat'].mean(), filtered_df['long'].mean(), 10, apikey=API)\n",
    "\n",
    "# Plot all houses\n",
    "gmap.scatter(filtered_df['lat'], filtered_df['long'], '#FF0000', size=40, marker=True)\n",
    "\n",
    "# Plot houses in the best month with a different color\n",
    "best_month_houses = filtered_df[filtered_df['month'] == best_month]\n",
    "gmap.scatter(best_month_houses['lat'], best_month_houses['long'], '#00FF00', size=40, marker=True)\n",
    "\n",
    "# Draw the map to an HTML file\n",
    "gmap.draw(\"presentation/html/filtered_houses_map_google_highlight_month.html\")"
   ]
  },
  {
   "cell_type": "markdown",
   "metadata": {},
   "source": [
    "Plot in folium"
   ]
  },
  {
   "cell_type": "code",
   "execution_count": 199,
   "metadata": {},
   "outputs": [],
   "source": [
    "import folium\n",
    "\n",
    "# Create a map centered around the mean latitude and longitude\n",
    "map_center = [filtered_df['lat'].mean(), filtered_df['long'].mean()]\n",
    "mymap = folium.Map(location=map_center, zoom_start=10)\n",
    "\n",
    "# Add markers for all houses\n",
    "for index, row in filtered_df.iterrows():\n",
    "    popup_text = f\"Price: ${row['price']}, Grade: {row['grade']}, Date: {row['date'].strftime('%Y-%m-%d')}\"\n",
    "    folium.Marker([row['lat'], row['long']], popup=popup_text).add_to(mymap)\n",
    "\n",
    "# Highlight the best month houses with a different color\n",
    "best_month_houses = filtered_df[filtered_df['month'] == best_month]\n",
    "for index, row in best_month_houses.iterrows():\n",
    "    popup_text = f\"Price: ${row['price']}, Grade: {row['grade']}, Date: {row['date'].strftime('%Y-%m-%d')}\"\n",
    "    folium.Marker([row['lat'], row['long']], popup=popup_text, icon=folium.Icon(color='green')).add_to(mymap)\n",
    "\n",
    "# Save the map to an HTML file\n",
    "mymap.save(\"presentation/html/filtered_houses_map_folio_highlight_month.html\")"
   ]
  }
 ],
 "metadata": {
  "kernelspec": {
   "display_name": "Python_DataScience",
   "language": "python",
   "name": "python3"
  },
  "language_info": {
   "codemirror_mode": {
    "name": "ipython",
    "version": 3
   },
   "file_extension": ".py",
   "mimetype": "text/x-python",
   "name": "python",
   "nbconvert_exporter": "python",
   "pygments_lexer": "ipython3",
   "version": "3.12.3"
  }
 },
 "nbformat": 4,
 "nbformat_minor": 2
}
